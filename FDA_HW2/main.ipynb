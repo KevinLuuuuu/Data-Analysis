{
  "nbformat": 4,
  "nbformat_minor": 5,
  "metadata": {
    "kernelspec": {
      "display_name": "Python 3",
      "language": "python",
      "name": "python3"
    },
    "language_info": {
      "codemirror_mode": {
        "name": "ipython",
        "version": 3
      },
      "file_extension": ".py",
      "mimetype": "text/x-python",
      "name": "python",
      "nbconvert_exporter": "python",
      "pygments_lexer": "ipython3",
      "version": "3.8.5"
    },
    "colab": {
      "name": "main.ipynb",
      "provenance": [],
      "collapsed_sections": []
    }
  },
  "cells": [
    {
      "cell_type": "markdown",
      "metadata": {
        "id": "effective-sugar"
      },
      "source": [
        "# Boston House Prices Prediction\n",
        "- Kaggle 連結: https://www.kaggle.com/vikrishnan/boston-house-prices\n",
        "    - 供參考用，本次作業使用 scikit-learn 內裝的 dataset"
      ],
      "id": "effective-sugar"
    },
    {
      "cell_type": "markdown",
      "metadata": {
        "id": "objective-motor"
      },
      "source": [
        "## 繳交規則\n",
        "\n",
        "1. 請將**當前資料夾**命名為 `FDA_HW3_你的學號`\n",
        "    - 例如：`FDA_HW3_F12345678`\n",
        "    - 所有**英文**都必須**大寫**\n",
        "    - 所有**文字**都必須在 **ASCII** 範圍\n",
        "2. 請將本檔案命名為 `main.ipynb`\n",
        "3. 請描述開發所需要的**環境**，包含：\n",
        "    - **作業系統**與**發行版本**\n",
        "        - 例如：Windows、Mac、Linux 等\n",
        "        - 需要填寫系統**名稱**與**版本**\n",
        "    - **程式執行環境**\n",
        "        - 例如：jupyter、kaggle kernel、colab 等\n",
        "        - 如果是 jupyter 請**填寫**版本\n",
        "        - 如果是雲端計算資源**不需填寫**版本\n",
        "        - 請**勿**使用**付費**資源，助教薪水**微薄**\n",
        "    - **python 版本**\n",
        "        - 例如：3.6.9\n",
        "        - 填寫**至少**能執行的版本即可\n",
        "    - **安裝環境**\n",
        "        - 例如使用 `pip`、`conda` 等\n",
        "        - 助教會以虛擬環境測試\n",
        "    - **安裝套件**與**版本**\n",
        "        - 請使用 `requirements.txt`\n",
        "        - 助教會以虛擬環境測試\n",
        "        - 請**不要**附上**多餘**的套件\n",
        "    - **計算資源**\n",
        "        - 使用 CPU **數量**\n",
        "        - GPU 版本\n",
        "    - **執行**所需花費**時間**\n",
        "        - 請**不要更改**擁有註解 `請勿更動此區塊程式碼` 的程式碼區塊\n",
        "4. 請**保留執行結果**讓助教可以直接觀看\n",
        "    - 請記得使用 **Save**\n",
        "    - **雲端**計算資源請**儲存**後**下載**檔案\n",
        "    - 所有程式區塊**必須依序執行**\n",
        "    - 請**不要**保留**多餘**的程式區塊\n",
        "5. 請**控制隨機亂數**讓實驗結果可以**重現**\n",
        "    - 關鍵字：**random seed**\n",
        "6. 請**不要**上傳**多餘**的檔案\n",
        "    - 不要上傳**隱藏**檔案，包含 `.git`、`.ipynb_checkpoints` 等\n",
        "    - 不要上傳**虛擬環境**\n",
        "7. 請附上**參考連結**\n",
        "    - 可以參考公開的 kernel\n",
        "    - 沒附上連結者視同**瓢竊**\n",
        "    - 使用的**演算法**請附上來源，並大致描述概念\n",
        "8. 請**壓縮**成 `zip` 並上傳至 [moodle](http://moodle.ncku.edu.tw/)\n",
        "    - 例如 `FDA_HW3_F12345678.zip`"
      ],
      "id": "objective-motor"
    },
    {
      "cell_type": "markdown",
      "metadata": {
        "id": "inappropriate-stock"
      },
      "source": [
        "## 評分標準\n",
        "\n",
        "如果有參考其他作法卻沒有附上來源，則直接視為瓢竊，得分為 $-\\infty$。\n",
        "\n",
        "|規則|滿足規則得分|沒滿足規則失分|\n",
        "|-|-|-|\n",
        "|資料夾名稱符合繳交規則|0|-60|\n",
        "|檔案名稱符合繳交規則|0|-60|\n",
        "|填寫環境需求|0|-60|\n",
        "|填寫計算資源|0|-60|\n",
        "|提供 `requirements.txt`|0|-60|\n",
        "|將資料夾壓縮成 `zip`|0|-60|\n",
        "|不更改擁有註解 `請勿更動此區塊程式碼` 的程式碼區塊|0|-60|\n",
        "|計算並顯示執行時間|0|-60|\n",
        "|控制隨機亂數讓實驗結果可以重現|0|-60|\n",
        "|在需要進行說明的cell以markdown語法進行說明|0|-20|\n",
        "|TODO #1: 整理資料|+5|-10|\n",
        "|TODO #2: 請進行統計各個 feature 的缺失值數目|+5|-20|\n",
        "|TODO #3: 利用 Seaborn 畫箱型圖|+10|0|\n",
        "|TODO #4: 利用 Seaborn 進行 Heatmap 作圖|+10|0|\n",
        "|TODO #5: 挑選特徵|+10|0|\n",
        "|TODO #6: 呈現特徵分佈|+10|0|\n",
        "|TODO #7: 切分資料|+10|0|\n",
        "|TODO #8: 訓練 Linear Regression 模型|+10|0|\n",
        "|TODO #9: 訓練 Random Forest Regressor 模型|+10|0|\n",
        "|TODO #10: 參數調整|+10|0|\n",
        "|TODO #11: 訓練 其他的 regression 模型|+10|0|\n",
        "|(Bonus) TODO #12: 超越助教的分數|+10|0|"
      ],
      "id": "inappropriate-stock"
    },
    {
      "cell_type": "markdown",
      "metadata": {
        "id": "xIq_WHsCfyKR"
      },
      "source": [
        "## 環境\n",
        "\n",
        "請填寫當前執行使用的環境。\n",
        "\n",
        "|環境|名稱|版本|\n",
        "|-|-|-|\n",
        "|作業系統|Ubuntu|18.04 LTS|\n",
        "|程式執行環境|colab||\n",
        "|python 版本|python3|3.6.9|\n",
        "|安裝環境|pip|20.0.2|"
      ],
      "id": "xIq_WHsCfyKR"
    },
    {
      "cell_type": "markdown",
      "metadata": {
        "id": "8viYmGuZf1MO"
      },
      "source": [
        "## 安裝\n",
        "\n",
        "請填寫安裝套件需要的指令\n",
        "\n",
        "```sh\n",
        "pip install -r requirements.txt\n",
        "```"
      ],
      "id": "8viYmGuZf1MO"
    },
    {
      "cell_type": "markdown",
      "metadata": {
        "id": "wrgfujdxf4Gk"
      },
      "source": [
        "## 計算資源\n",
        "\n",
        "請填寫執行程式所需要的計算資源，請確保所有資源限制在單一個人桌上型電腦且能夠以總市價低於 5 萬的手段取得。\n",
        "\n",
        "|計算資源|答案|\n",
        "|-|-|\n",
        "|使用 CPU 核心數|1|\n",
        "|記憶體需求|$\\leq 1$GB|\n",
        "|有無使用 GPU|無|\n",
        "|GPU 版本|無|\n",
        "|GPU 記憶體需求|$\\leq 1$GB|"
      ],
      "id": "wrgfujdxf4Gk"
    },
    {
      "cell_type": "markdown",
      "metadata": {
        "id": "kYbv1GHgfH5v"
      },
      "source": [
        "## 參考連結\n",
        "\n",
        "- 有無參考他人之實驗結果：有\n",
        "- 參考連結：\n",
        "\n",
        "\n",
        "\n",
        "1.  https://www.kaggle.com/jayatou/xgbregressor-with-gridsearchcv\n",
        "2.  https://medium.com/ai%E5%8F%8D%E6%96%97%E5%9F%8E/learning-model-xgbregressor%E5%8F%83%E6%95%B8%E8%AA%BF%E6%95%B4-ca3dcebbe23\n",
        "3.  https://scikit-learn.org/stable/modules/generated/sklearn.ensemble.RandomForestRegressor.html"
      ],
      "id": "kYbv1GHgfH5v"
    },
    {
      "cell_type": "code",
      "metadata": {
        "id": "unsigned-berlin"
      },
      "source": [
        "# 請勿更動此區塊程式碼\n",
        "\n",
        "import time\n",
        "\n",
        "EXECUTION_START_TIME = time.time() # 計算執行時間"
      ],
      "id": "unsigned-berlin",
      "execution_count": 126,
      "outputs": []
    },
    {
      "cell_type": "code",
      "metadata": {
        "id": "sufficient-advocacy"
      },
      "source": [
        "# 載入必要套件\n",
        "\n",
        "from sklearn.datasets import load_boston\n",
        "from sklearn.metrics import mean_squared_error as MSE\n",
        "import numpy as np\n",
        "import pandas as pd"
      ],
      "id": "sufficient-advocacy",
      "execution_count": 127,
      "outputs": []
    },
    {
      "cell_type": "markdown",
      "metadata": {
        "id": "brief-education"
      },
      "source": [
        "## 載入資料"
      ],
      "id": "brief-education"
    },
    {
      "cell_type": "code",
      "metadata": {
        "colab": {
          "base_uri": "https://localhost:8080/"
        },
        "id": "excessive-contents",
        "outputId": "5e6fa5d8-fa1f-4513-b394-9e2253e20cc2"
      },
      "source": [
        "# 使用 scikit-learn 的資料\n",
        "\n",
        "dataset = load_boston()\n",
        "print(type(dataset))"
      ],
      "id": "excessive-contents",
      "execution_count": 128,
      "outputs": [
        {
          "output_type": "stream",
          "text": [
            "<class 'sklearn.utils.Bunch'>\n"
          ],
          "name": "stdout"
        }
      ]
    },
    {
      "cell_type": "code",
      "metadata": {
        "colab": {
          "base_uri": "https://localhost:8080/"
        },
        "id": "solar-factory",
        "outputId": "4656b05e-cee4-45b7-8051-ad46890edfa1"
      },
      "source": [
        "# 觀察資料的 key 值有哪些\n",
        "\n",
        "dataset.keys()"
      ],
      "id": "solar-factory",
      "execution_count": 129,
      "outputs": [
        {
          "output_type": "execute_result",
          "data": {
            "text/plain": [
              "dict_keys(['data', 'target', 'feature_names', 'DESCR', 'filename'])"
            ]
          },
          "metadata": {
            "tags": []
          },
          "execution_count": 129
        }
      ]
    },
    {
      "cell_type": "markdown",
      "metadata": {
        "id": "floating-preliminary"
      },
      "source": [
        "## 資料前處理\n",
        "### TODO #1: \n",
        "- 請將資料以 Pandas 整理成 DataFrame 的型式\n",
        "- 欄位名稱為 feature_names"
      ],
      "id": "floating-preliminary"
    },
    {
      "cell_type": "code",
      "metadata": {
        "colab": {
          "base_uri": "https://localhost:8080/"
        },
        "id": "constitutional-accommodation",
        "outputId": "d6d4b5e8-2482-4dc7-fe82-e33a9b588da6"
      },
      "source": [
        "df = pd.DataFrame(\n",
        "    dataset.data, \n",
        "    columns=dataset.feature_names  \n",
        ")\n",
        "print(df)"
      ],
      "id": "constitutional-accommodation",
      "execution_count": 130,
      "outputs": [
        {
          "output_type": "stream",
          "text": [
            "        CRIM    ZN  INDUS  CHAS    NOX  ...  RAD    TAX  PTRATIO       B  LSTAT\n",
            "0    0.00632  18.0   2.31   0.0  0.538  ...  1.0  296.0     15.3  396.90   4.98\n",
            "1    0.02731   0.0   7.07   0.0  0.469  ...  2.0  242.0     17.8  396.90   9.14\n",
            "2    0.02729   0.0   7.07   0.0  0.469  ...  2.0  242.0     17.8  392.83   4.03\n",
            "3    0.03237   0.0   2.18   0.0  0.458  ...  3.0  222.0     18.7  394.63   2.94\n",
            "4    0.06905   0.0   2.18   0.0  0.458  ...  3.0  222.0     18.7  396.90   5.33\n",
            "..       ...   ...    ...   ...    ...  ...  ...    ...      ...     ...    ...\n",
            "501  0.06263   0.0  11.93   0.0  0.573  ...  1.0  273.0     21.0  391.99   9.67\n",
            "502  0.04527   0.0  11.93   0.0  0.573  ...  1.0  273.0     21.0  396.90   9.08\n",
            "503  0.06076   0.0  11.93   0.0  0.573  ...  1.0  273.0     21.0  396.90   5.64\n",
            "504  0.10959   0.0  11.93   0.0  0.573  ...  1.0  273.0     21.0  393.45   6.48\n",
            "505  0.04741   0.0  11.93   0.0  0.573  ...  1.0  273.0     21.0  396.90   7.88\n",
            "\n",
            "[506 rows x 13 columns]\n"
          ],
          "name": "stdout"
        }
      ]
    },
    {
      "cell_type": "code",
      "metadata": {
        "colab": {
          "base_uri": "https://localhost:8080/"
        },
        "id": "stuck-thinking",
        "outputId": "e311aa47-9a94-4321-81d2-85c43138fa56"
      },
      "source": [
        "print(\"Number of features: \", len(dataset.feature_names))\n",
        "print(dataset.feature_names)"
      ],
      "id": "stuck-thinking",
      "execution_count": 131,
      "outputs": [
        {
          "output_type": "stream",
          "text": [
            "Number of features:  13\n",
            "['CRIM' 'ZN' 'INDUS' 'CHAS' 'NOX' 'RM' 'AGE' 'DIS' 'RAD' 'TAX' 'PTRATIO'\n",
            " 'B' 'LSTAT']\n"
          ],
          "name": "stdout"
        }
      ]
    },
    {
      "cell_type": "code",
      "metadata": {
        "id": "satisfactory-disease"
      },
      "source": [
        "df['MEDV'] = dataset.target"
      ],
      "id": "satisfactory-disease",
      "execution_count": 132,
      "outputs": []
    },
    {
      "cell_type": "code",
      "metadata": {
        "colab": {
          "base_uri": "https://localhost:8080/",
          "height": 196
        },
        "id": "irish-terrorism",
        "outputId": "f10cdd61-d147-4d12-8ad5-3e23b6a204be"
      },
      "source": [
        "df.head()"
      ],
      "id": "irish-terrorism",
      "execution_count": 133,
      "outputs": [
        {
          "output_type": "execute_result",
          "data": {
            "text/html": [
              "<div>\n",
              "<style scoped>\n",
              "    .dataframe tbody tr th:only-of-type {\n",
              "        vertical-align: middle;\n",
              "    }\n",
              "\n",
              "    .dataframe tbody tr th {\n",
              "        vertical-align: top;\n",
              "    }\n",
              "\n",
              "    .dataframe thead th {\n",
              "        text-align: right;\n",
              "    }\n",
              "</style>\n",
              "<table border=\"1\" class=\"dataframe\">\n",
              "  <thead>\n",
              "    <tr style=\"text-align: right;\">\n",
              "      <th></th>\n",
              "      <th>CRIM</th>\n",
              "      <th>ZN</th>\n",
              "      <th>INDUS</th>\n",
              "      <th>CHAS</th>\n",
              "      <th>NOX</th>\n",
              "      <th>RM</th>\n",
              "      <th>AGE</th>\n",
              "      <th>DIS</th>\n",
              "      <th>RAD</th>\n",
              "      <th>TAX</th>\n",
              "      <th>PTRATIO</th>\n",
              "      <th>B</th>\n",
              "      <th>LSTAT</th>\n",
              "      <th>MEDV</th>\n",
              "    </tr>\n",
              "  </thead>\n",
              "  <tbody>\n",
              "    <tr>\n",
              "      <th>0</th>\n",
              "      <td>0.00632</td>\n",
              "      <td>18.0</td>\n",
              "      <td>2.31</td>\n",
              "      <td>0.0</td>\n",
              "      <td>0.538</td>\n",
              "      <td>6.575</td>\n",
              "      <td>65.2</td>\n",
              "      <td>4.0900</td>\n",
              "      <td>1.0</td>\n",
              "      <td>296.0</td>\n",
              "      <td>15.3</td>\n",
              "      <td>396.90</td>\n",
              "      <td>4.98</td>\n",
              "      <td>24.0</td>\n",
              "    </tr>\n",
              "    <tr>\n",
              "      <th>1</th>\n",
              "      <td>0.02731</td>\n",
              "      <td>0.0</td>\n",
              "      <td>7.07</td>\n",
              "      <td>0.0</td>\n",
              "      <td>0.469</td>\n",
              "      <td>6.421</td>\n",
              "      <td>78.9</td>\n",
              "      <td>4.9671</td>\n",
              "      <td>2.0</td>\n",
              "      <td>242.0</td>\n",
              "      <td>17.8</td>\n",
              "      <td>396.90</td>\n",
              "      <td>9.14</td>\n",
              "      <td>21.6</td>\n",
              "    </tr>\n",
              "    <tr>\n",
              "      <th>2</th>\n",
              "      <td>0.02729</td>\n",
              "      <td>0.0</td>\n",
              "      <td>7.07</td>\n",
              "      <td>0.0</td>\n",
              "      <td>0.469</td>\n",
              "      <td>7.185</td>\n",
              "      <td>61.1</td>\n",
              "      <td>4.9671</td>\n",
              "      <td>2.0</td>\n",
              "      <td>242.0</td>\n",
              "      <td>17.8</td>\n",
              "      <td>392.83</td>\n",
              "      <td>4.03</td>\n",
              "      <td>34.7</td>\n",
              "    </tr>\n",
              "    <tr>\n",
              "      <th>3</th>\n",
              "      <td>0.03237</td>\n",
              "      <td>0.0</td>\n",
              "      <td>2.18</td>\n",
              "      <td>0.0</td>\n",
              "      <td>0.458</td>\n",
              "      <td>6.998</td>\n",
              "      <td>45.8</td>\n",
              "      <td>6.0622</td>\n",
              "      <td>3.0</td>\n",
              "      <td>222.0</td>\n",
              "      <td>18.7</td>\n",
              "      <td>394.63</td>\n",
              "      <td>2.94</td>\n",
              "      <td>33.4</td>\n",
              "    </tr>\n",
              "    <tr>\n",
              "      <th>4</th>\n",
              "      <td>0.06905</td>\n",
              "      <td>0.0</td>\n",
              "      <td>2.18</td>\n",
              "      <td>0.0</td>\n",
              "      <td>0.458</td>\n",
              "      <td>7.147</td>\n",
              "      <td>54.2</td>\n",
              "      <td>6.0622</td>\n",
              "      <td>3.0</td>\n",
              "      <td>222.0</td>\n",
              "      <td>18.7</td>\n",
              "      <td>396.90</td>\n",
              "      <td>5.33</td>\n",
              "      <td>36.2</td>\n",
              "    </tr>\n",
              "  </tbody>\n",
              "</table>\n",
              "</div>"
            ],
            "text/plain": [
              "      CRIM    ZN  INDUS  CHAS    NOX  ...    TAX  PTRATIO       B  LSTAT  MEDV\n",
              "0  0.00632  18.0   2.31   0.0  0.538  ...  296.0     15.3  396.90   4.98  24.0\n",
              "1  0.02731   0.0   7.07   0.0  0.469  ...  242.0     17.8  396.90   9.14  21.6\n",
              "2  0.02729   0.0   7.07   0.0  0.469  ...  242.0     17.8  392.83   4.03  34.7\n",
              "3  0.03237   0.0   2.18   0.0  0.458  ...  222.0     18.7  394.63   2.94  33.4\n",
              "4  0.06905   0.0   2.18   0.0  0.458  ...  222.0     18.7  396.90   5.33  36.2\n",
              "\n",
              "[5 rows x 14 columns]"
            ]
          },
          "metadata": {
            "tags": []
          },
          "execution_count": 133
        }
      ]
    },
    {
      "cell_type": "markdown",
      "metadata": {
        "id": "limited-arctic"
      },
      "source": [
        "### TODO #2: 請進行統計各個 feature 的缺失值數目"
      ],
      "id": "limited-arctic"
    },
    {
      "cell_type": "code",
      "metadata": {
        "colab": {
          "base_uri": "https://localhost:8080/"
        },
        "id": "bigger-alfred",
        "outputId": "738902c1-c694-4fe2-de1f-2a8ada64700d"
      },
      "source": [
        "# Please use some functions of Pandas here.\n",
        "print(df.isna().sum())"
      ],
      "id": "bigger-alfred",
      "execution_count": 134,
      "outputs": [
        {
          "output_type": "stream",
          "text": [
            "CRIM       0\n",
            "ZN         0\n",
            "INDUS      0\n",
            "CHAS       0\n",
            "NOX        0\n",
            "RM         0\n",
            "AGE        0\n",
            "DIS        0\n",
            "RAD        0\n",
            "TAX        0\n",
            "PTRATIO    0\n",
            "B          0\n",
            "LSTAT      0\n",
            "MEDV       0\n",
            "dtype: int64\n"
          ],
          "name": "stdout"
        }
      ]
    },
    {
      "cell_type": "code",
      "metadata": {
        "id": "representative-trade"
      },
      "source": [
        "import seaborn as sns\n",
        "import matplotlib.pyplot as plt"
      ],
      "id": "representative-trade",
      "execution_count": 135,
      "outputs": []
    },
    {
      "cell_type": "markdown",
      "metadata": {
        "id": "devoted-professor"
      },
      "source": [
        "## 觀察資料的特性"
      ],
      "id": "devoted-professor"
    },
    {
      "cell_type": "markdown",
      "metadata": {
        "id": "promotional-banner"
      },
      "source": [
        "### TODO #3: 利用 Seaborn 畫箱型圖，並進行說明\n",
        "- 觀察每一個 features 的數值分佈\n",
        "- 可以用來決定是否要對資料的數值進行標準化"
      ],
      "id": "promotional-banner"
    },
    {
      "cell_type": "code",
      "metadata": {
        "colab": {
          "base_uri": "https://localhost:8080/",
          "height": 537
        },
        "id": "secret-oxford",
        "outputId": "54088892-81a9-4586-9c48-c69d855ac139"
      },
      "source": [
        "plt.figure(figsize=(16, 9))\n",
        "# Plot a boxplot with Seaborn\n",
        "\n",
        "sns.boxplot(\n",
        "    data=df\n",
        ")         \n",
        "\n",
        "# 繪製圖表\n",
        "plt.show() "
      ],
      "id": "secret-oxford",
      "execution_count": 136,
      "outputs": [
        {
          "output_type": "display_data",
          "data": {
            "image/png": "[encoded data removed]",
            "text/plain": [
              "<Figure size 1152x648 with 1 Axes>"
            ]
          },
          "metadata": {
            "tags": [],
            "needs_background": "light"
          }
        }
      ]
    },
    {
      "cell_type": "markdown",
      "metadata": {
        "id": "t2ceKQ477RnI"
      },
      "source": [
        "**箱型圖說明**\n",
        "\n",
        "我們可以看到各個欄位數據的四分位的分布情況。因為各個數字所代表的涵義不同，因此造成各個箱型圖差異甚大。而我們可以使用標準化的方式，解決箱型圖被壓縮或放大的問題，除了可以更精確判斷異常值分布情況，也可提升模型的收斂速度或提高訓練精準度等。\n"
      ],
      "id": "t2ceKQ477RnI"
    },
    {
      "cell_type": "markdown",
      "metadata": {
        "id": "outdoor-symposium"
      },
      "source": [
        "### TODO #4: 利用 Seaborn 進行 Heatmap 作圖，並進行說明\n",
        "- 觀察每一個特徵與房價 (MEDV) 的關聯程度\n",
        "- 使用 dr.corr() 來計算 feature 和 feature 之間的關係係數\n",
        "- 數值愈高表示愈正相關，數值愈低表示愈負相關"
      ],
      "id": "outdoor-symposium"
    },
    {
      "cell_type": "code",
      "metadata": {
        "colab": {
          "base_uri": "https://localhost:8080/",
          "height": 541
        },
        "id": "honey-adobe",
        "outputId": "30660ae1-019b-4ebc-bcc4-415b8070eb9a"
      },
      "source": [
        "plt.figure(figsize=(16, 9))\n",
        "# Please use a function of Pandas here.\n",
        "\n",
        "correlation = df.corr()\n",
        "\n",
        "# Plot a heatmap with Seaborn\n",
        "\n",
        "sns.heatmap(correlation,annot=True,square=True,linewidths=0.2)                   \n",
        "\n",
        "# 繪製圖表\n",
        "plt.show()"
      ],
      "id": "honey-adobe",
      "execution_count": 137,
      "outputs": [
        {
          "output_type": "display_data",
          "data": {
            "image/png": "[encoded data removed]",
            "text/plain": [
              "<Figure size 1152x648 with 2 Axes>"
            ]
          },
          "metadata": {
            "tags": [],
            "needs_background": "light"
          }
        }
      ]
    },
    {
      "cell_type": "markdown",
      "metadata": {
        "id": "d07mehfy9eLG"
      },
      "source": [
        "**Heatmap 說明**\n",
        "\n",
        "根據熱點圖，我們可以輕易觀察到各個欄位之間的關聯程度大小，可以看到的是對角線都為相同欄位，因此關聯程度都為1。透過 MEDV 欄位與其他欄位的交集，我們可以觀察房價與其他相關因素的關聯程度。"
      ],
      "id": "d07mehfy9eLG"
    },
    {
      "cell_type": "markdown",
      "metadata": {
        "id": "apparent-swedish"
      },
      "source": [
        "### TODO #5: 挑選特徵，並進行說明\n",
        "- 觀察 heatmap 中具有\"顯著\"正相關或是\"顯著\"負相關的特徵\n",
        "- 把這些特徵進行 concatenation，得到新的 dataframe"
      ],
      "id": "apparent-swedish"
    },
    {
      "cell_type": "code",
      "metadata": {
        "colab": {
          "base_uri": "https://localhost:8080/"
        },
        "id": "loaded-belize",
        "outputId": "15ff636b-54fa-4e07-fe02-eb60f800b294"
      },
      "source": [
        "X = pd.DataFrame(np.c_[df['INDUS'],df['NOX'],df['RM'],df['TAX'],df['PTRATIO'],df['LSTAT']], # Please put features inside the bracket\n",
        "                 columns = ['INDUS','NOX','RM','TAX','PTRATIO','LSTAT']  # Please put feature names here \n",
        "                )\n",
        "print(X)"
      ],
      "id": "loaded-belize",
      "execution_count": 138,
      "outputs": [
        {
          "output_type": "stream",
          "text": [
            "     INDUS    NOX     RM    TAX  PTRATIO  LSTAT\n",
            "0     2.31  0.538  6.575  296.0     15.3   4.98\n",
            "1     7.07  0.469  6.421  242.0     17.8   9.14\n",
            "2     7.07  0.469  7.185  242.0     17.8   4.03\n",
            "3     2.18  0.458  6.998  222.0     18.7   2.94\n",
            "4     2.18  0.458  7.147  222.0     18.7   5.33\n",
            "..     ...    ...    ...    ...      ...    ...\n",
            "501  11.93  0.573  6.593  273.0     21.0   9.67\n",
            "502  11.93  0.573  6.120  273.0     21.0   9.08\n",
            "503  11.93  0.573  6.976  273.0     21.0   5.64\n",
            "504  11.93  0.573  6.794  273.0     21.0   6.48\n",
            "505  11.93  0.573  6.030  273.0     21.0   7.88\n",
            "\n",
            "[506 rows x 6 columns]\n"
          ],
          "name": "stdout"
        }
      ]
    },
    {
      "cell_type": "markdown",
      "metadata": {
        "id": "9-9g2YaX_Zoz"
      },
      "source": [
        "**挑選特徵說明**\n",
        "\n",
        "我們想取出具有\"顯著\"正相關或是\"顯著\"負相關的特徵，因此觀察熱點圖，我們將關聯程度在絕對值 | 0.5 | 左右的特徵欄位取出來並做 concatenation 成為新的 dataframe，以避免其他關聯程度較小的欄位影響訓練。"
      ],
      "id": "9-9g2YaX_Zoz"
    },
    {
      "cell_type": "markdown",
      "metadata": {
        "id": "objective-stretch"
      },
      "source": [
        "### TODO #6: 呈現特徵分佈，並進行說明\n",
        "- 把你選取到的\"重要特徵\"進行subplots，畫出散佈圖 (scatter plots)\n",
        "- 每一張圖的X軸是你選到的特徵、Y軸是房價('MEDV')"
      ],
      "id": "objective-stretch"
    },
    {
      "cell_type": "code",
      "metadata": {
        "colab": {
          "base_uri": "https://localhost:8080/",
          "height": 606
        },
        "id": "specific-quantum",
        "outputId": "c1fb5a10-8dc2-4bc8-f40b-8a2e77316b4c"
      },
      "source": [
        "# Please plot subplots here\n",
        "\n",
        "fig, ax = plt.subplots(ncols=3, nrows=2, figsize=(20, 10))\n",
        "\n",
        "ax[0,0].scatter(\n",
        "    # 選擇 x 軸資料\n",
        "    x=df['INDUS'],               \n",
        "    # 選擇 y 軸資料\n",
        "    y=df['MEDV']\n",
        ")\n",
        "\n",
        "ax[0,1].scatter(\n",
        "    x=df['NOX'],\n",
        "    y=df['MEDV']\n",
        ")\n",
        "\n",
        "ax[0,2].scatter(\n",
        "    x=df['RM'],\n",
        "    y=df['MEDV']\n",
        ")\n",
        "\n",
        "ax[1,0].scatter(\n",
        "    x=df['TAX'],\n",
        "    y=df['MEDV']\n",
        ")\n",
        "\n",
        "ax[1,1].scatter(\n",
        "    x=df['PTRATIO'],\n",
        "    y=df['MEDV']\n",
        ")\n",
        "\n",
        "ax[1,2].scatter(\n",
        "    x=df['LSTAT'],\n",
        "    y=df['MEDV']\n",
        ")\n",
        "\n",
        "ax[0,0].set_xlabel('INDUS')\n",
        "ax[0,1].set_xlabel('NOX')\n",
        "ax[0,2].set_xlabel('RM')\n",
        "ax[1,0].set_xlabel('TAX')\n",
        "ax[1,1].set_xlabel('PTRATIO')\n",
        "ax[1,2].set_xlabel('LSTAT')\n",
        "\n",
        "plt.show()"
      ],
      "id": "specific-quantum",
      "execution_count": 139,
      "outputs": [
        {
          "output_type": "display_data",
          "data": {
            "image/png": "[encoded data removed]",
            "text/plain": [
              "<Figure size 1440x720 with 6 Axes>"
            ]
          },
          "metadata": {
            "tags": [],
            "needs_background": "light"
          }
        }
      ]
    },
    {
      "cell_type": "markdown",
      "metadata": {
        "id": "u-dWfeq0Ahm5"
      },
      "source": [
        "**特徵分布說明**\n",
        "\n",
        "- INDUS (proportion of non-retail business acres per town)\n",
        "\n",
        "  多分布在圖中左邊中上側，也就是值越低，MEDV的值較高的機會較大。\n",
        "\n",
        "- NOX (nitric oxides concentration (parts per 10 million))\n",
        "\n",
        "  同樣多分布在圖中左邊中上側，但其相關係數跟其他取出來的欄位相比是最小的(0.43)，因此並不明顯。\n",
        "\n",
        "- RM (average number of rooms per dwelling)\n",
        "\n",
        "  與房價呈現相當程度的正相關。\n",
        "\n",
        "- TAX (full-value property-tax rate per $10,000)\n",
        "\n",
        "  多數集中在450以下，而有一部分則落在較高的位置(650之上)。\n",
        "\n",
        "- PTRATIO (pupil-teacher ratio by town)\n",
        "\n",
        "  大致分布在右下。\n",
        "\n",
        "- LSTAT (% lower status of the population)\n",
        "\n",
        "  與房價呈現相當程度的負相關。\n"
      ],
      "id": "u-dWfeq0Ahm5"
    },
    {
      "cell_type": "markdown",
      "metadata": {
        "id": "alleged-ontario"
      },
      "source": [
        "## 訓練模型前的準備\n",
        "### TODO #7: 切分資料\n",
        "- 利用 train_test_split，將資料切成 train set 和 test set\n",
        "- 設定 train set 的比例為全部資料的 80%\n",
        "- 請記得設定 random_state 以控制隨機過程"
      ],
      "id": "alleged-ontario"
    },
    {
      "cell_type": "code",
      "metadata": {
        "colab": {
          "base_uri": "https://localhost:8080/"
        },
        "id": "renewable-bankruptcy",
        "outputId": "9f370bb6-0716-4fa3-d95d-70834e320a2c"
      },
      "source": [
        "from sklearn.model_selection import train_test_split\n",
        "\n",
        "X_train, X_test, Y_train, Y_test = train_test_split(   \n",
        "    X,                                         \n",
        "    df['MEDV'],                                         \n",
        "    test_size=0.2,                                  \n",
        "    random_state=1012                                \n",
        ")\n",
        "\n",
        "print(X_train.shape) #(404, 2)\n",
        "print(X_test.shape) #(102, 2)\n",
        "print(Y_train.shape) #(404, )\n",
        "print(Y_test.shape) #(102, )"
      ],
      "id": "renewable-bankruptcy",
      "execution_count": 140,
      "outputs": [
        {
          "output_type": "stream",
          "text": [
            "(404, 6)\n",
            "(102, 6)\n",
            "(404,)\n",
            "(102,)\n"
          ],
          "name": "stdout"
        }
      ]
    },
    {
      "cell_type": "markdown",
      "metadata": {
        "id": "expanded-longer"
      },
      "source": [
        "## 訓練模型並進行評估"
      ],
      "id": "expanded-longer"
    },
    {
      "cell_type": "markdown",
      "metadata": {
        "id": "seasonal-honor"
      },
      "source": [
        "### TODO #8: 訓練 Linear Regression 模型，並說明訓練結果\n",
        "- 利用 scikit-learn，將資料 fit 在 LinearRegression\n",
        "- 將結果繪製成散佈圖 (scatter plot)，其中 X軸 為 Y_pred、Y軸為 Y_true"
      ],
      "id": "seasonal-honor"
    },
    {
      "cell_type": "code",
      "metadata": {
        "colab": {
          "base_uri": "https://localhost:8080/"
        },
        "id": "vital-classics",
        "outputId": "ac82a403-1931-4d86-dea9-8dfdb85c1738"
      },
      "source": [
        "# Modeling\n",
        "from sklearn.linear_model import LinearRegression\n",
        "\n",
        "model_reg = LinearRegression(\n",
        "    fit_intercept=True, \n",
        "    normalize=False\n",
        ")\n",
        "\n",
        "model_reg.fit(X_train, Y_train)\n",
        "\n",
        "print(model_reg.score(X_train, Y_train))"
      ],
      "id": "vital-classics",
      "execution_count": 141,
      "outputs": [
        {
          "output_type": "stream",
          "text": [
            "0.6724689514072772\n"
          ],
          "name": "stdout"
        }
      ]
    },
    {
      "cell_type": "code",
      "metadata": {
        "colab": {
          "base_uri": "https://localhost:8080/",
          "height": 265
        },
        "id": "sixth-voltage",
        "outputId": "5000ef3a-c968-4f9d-80f2-0f5680b50e5e"
      },
      "source": [
        "# plotting the y_test vs y_pred\n",
        "\n",
        "plt.scatter(\n",
        "    y=Y_test,\n",
        "    x=model_reg.predict(X_test),\n",
        "    color='blue'\n",
        ")\n",
        "\n",
        "plt.show()"
      ],
      "id": "sixth-voltage",
      "execution_count": 142,
      "outputs": [
        {
          "output_type": "display_data",
          "data": {
            "image/png": "[encoded data removed]",
            "text/plain": [
              "<Figure size 432x288 with 1 Axes>"
            ]
          },
          "metadata": {
            "tags": [],
            "needs_background": "light"
          }
        }
      ]
    },
    {
      "cell_type": "markdown",
      "metadata": {
        "id": "G_YNtLOUuufj"
      },
      "source": [
        "**訓練結果**\n",
        "\n",
        "可以看到訓練出來的模型準確率並不是非常的好，而透過分布圖我們可以看到有些數據被低估，如當y_true 約為 40-50 時，y_pred 約為 35-40，稍低一些。"
      ],
      "id": "G_YNtLOUuufj"
    },
    {
      "cell_type": "markdown",
      "metadata": {
        "id": "progressive-perth"
      },
      "source": [
        "### TODO #9: 訓練 Random Forest Regressor 模型\n",
        "- 利用 scikit-learn，將資料 fit 在 RandomForestRegressor 模型\n",
        "- 將結果繪製成散佈圖 (scatter plot)，其中 X軸 為 Y_pred、Y軸為 Y_true"
      ],
      "id": "progressive-perth"
    },
    {
      "cell_type": "code",
      "metadata": {
        "id": "third-yield"
      },
      "source": [
        "from sklearn.ensemble import RandomForestRegressor"
      ],
      "id": "third-yield",
      "execution_count": 143,
      "outputs": []
    },
    {
      "cell_type": "code",
      "metadata": {
        "colab": {
          "base_uri": "https://localhost:8080/"
        },
        "id": "homeless-twelve",
        "outputId": "4080741c-e239-47f8-bc5b-8478e2d06a5a"
      },
      "source": [
        "# Modeling\n",
        "\n",
        "model = RandomForestRegressor(random_state=1)\n",
        "\n",
        "model.fit(X_train, Y_train)\n",
        "\n",
        "print(model.score(X_train, Y_train))"
      ],
      "id": "homeless-twelve",
      "execution_count": 144,
      "outputs": [
        {
          "output_type": "stream",
          "text": [
            "0.9744822868468493\n"
          ],
          "name": "stdout"
        }
      ]
    },
    {
      "cell_type": "code",
      "metadata": {
        "colab": {
          "base_uri": "https://localhost:8080/",
          "height": 265
        },
        "id": "temporal-strand",
        "outputId": "5d8cae1c-6879-445d-b349-5b7b5674b68a"
      },
      "source": [
        "# plotting the y_test vs y_pred\n",
        "\n",
        "plt.scatter(\n",
        "    y=Y_test,\n",
        "    x=model.predict(X_test),\n",
        "    color='blue'\n",
        ")\n",
        "\n",
        "plt.show()"
      ],
      "id": "temporal-strand",
      "execution_count": 145,
      "outputs": [
        {
          "output_type": "display_data",
          "data": {
            "image/png": "[encoded data removed]",
            "text/plain": [
              "<Figure size 432x288 with 1 Axes>"
            ]
          },
          "metadata": {
            "tags": [],
            "needs_background": "light"
          }
        }
      ]
    },
    {
      "cell_type": "markdown",
      "metadata": {
        "id": "presidential-scotland"
      },
      "source": [
        "### TODO #10: 參數調整，並進行說明\n",
        "- 請嘗試使用 Grid search 來進行調參\n",
        "    - 可以自己寫 for-loop\n",
        "    - 或是使用 sklearn.model_selection 中的 GridSearchCV 函式"
      ],
      "id": "presidential-scotland"
    },
    {
      "cell_type": "code",
      "metadata": {
        "id": "scheduled-wellington"
      },
      "source": [
        "from sklearn.model_selection import GridSearchCV"
      ],
      "id": "scheduled-wellington",
      "execution_count": 146,
      "outputs": []
    },
    {
      "cell_type": "code",
      "metadata": {
        "colab": {
          "base_uri": "https://localhost:8080/"
        },
        "id": "apart-thesaurus",
        "outputId": "290ec63d-5b6c-458d-81c4-0d692f7677d5"
      },
      "source": [
        "forest_parameters = {\n",
        "    'n_estimators':[100,200,500,1000],\n",
        "    'max_depth' : [80, 90, 100, 110],\n",
        "    'random_state' : [1]\n",
        "}\n",
        "model1 = GridSearchCV(RandomForestRegressor(), param_grid=forest_parameters)\n",
        "\n",
        "model1.fit(X_train, Y_train)\n",
        "\n",
        "print(model1.score(X_train, Y_train))\n",
        "\n",
        "print(model1.best_params_)\n",
        "\n",
        "# 0.9759514188374315 \n",
        "# {'max_depth': 80, 'n_estimators': 1000, 'random_state': 1}"
      ],
      "id": "apart-thesaurus",
      "execution_count": 147,
      "outputs": [
        {
          "output_type": "stream",
          "text": [
            "0.9759514188374315\n",
            "{'max_depth': 80, 'n_estimators': 1000, 'random_state': 1}\n"
          ],
          "name": "stdout"
        }
      ]
    },
    {
      "cell_type": "markdown",
      "metadata": {
        "id": "q4xrthYf7iKE"
      },
      "source": [
        "Grid search ( RandomForestRegressor ) :\n",
        "\n",
        "參數項目 :\n",
        "\n",
        "  - n_estimators : 建立子樹數量，通常為越多越好(在性能許可的狀態下)，這裡給予 100,200,500,1000，去做搭配。\n",
        "\n",
        "  - max_depth : 限制樹的最大深度，超過設定深度的樹枝全部剪掉。而這個並非數值大或小就絕對好或壞，需做嘗試，因此適合拿來調參。\n",
        "\n",
        "  - random_state : 設定參數種子，直接給定為1，保留結果。\n"
      ],
      "id": "q4xrthYf7iKE"
    },
    {
      "cell_type": "code",
      "metadata": {
        "colab": {
          "base_uri": "https://localhost:8080/",
          "height": 298
        },
        "id": "military-amsterdam",
        "outputId": "b9532938-703a-4854-ef30-bf14e0a4106f"
      },
      "source": [
        "plt.scatter(\n",
        "    y=Y_test,\n",
        "    x=model1.predict(X_test),\n",
        "    color='blue'\n",
        ")\n",
        "\n",
        "plt.show()\n",
        "\n",
        "from sklearn.metrics import r2_score\n",
        "from sklearn.metrics import mean_squared_error\n",
        "from sklearn.metrics import accuracy_score \n",
        "\n",
        "print(r2_score(Y_test, model1.predict(X_test)))\n",
        "print(mean_squared_error(Y_test, model1.predict(X_test)))"
      ],
      "id": "military-amsterdam",
      "execution_count": 148,
      "outputs": [
        {
          "output_type": "display_data",
          "data": {
            "image/png": "[encoded data removed]",
            "text/plain": [
              "<Figure size 432x288 with 1 Axes>"
            ]
          },
          "metadata": {
            "tags": [],
            "needs_background": "light"
          }
        },
        {
          "output_type": "stream",
          "text": [
            "0.9057176348484999\n",
            "9.414663352549063\n"
          ],
          "name": "stdout"
        }
      ]
    },
    {
      "cell_type": "markdown",
      "metadata": {
        "id": "WZ4acrjn-aZJ"
      },
      "source": [
        "由分布圖可以看到訓練的模型結果較 Linear Regression 為佳許多。"
      ],
      "id": "WZ4acrjn-aZJ"
    },
    {
      "cell_type": "markdown",
      "metadata": {
        "id": "regulation-holly"
      },
      "source": [
        "### TODO #11: 訓練 其他的 regression 模型，與上述兩種模型比較並說明訓練結果\n",
        "- 將資料 fit 在其他的迴歸模型，可選擇 SVR、XGBRegressor 或其他...\n",
        "- 利用 TODO #10 的工具來進行參數調整\n",
        "- 將結果繪製成散佈圖 (scatter plot)，其中 X軸 為 Y_pred、Y軸為 Y_true"
      ],
      "id": "regulation-holly"
    },
    {
      "cell_type": "code",
      "metadata": {
        "id": "dominant-ideal"
      },
      "source": [
        "from xgboost.sklearn import XGBRegressor"
      ],
      "id": "dominant-ideal",
      "execution_count": 149,
      "outputs": []
    },
    {
      "cell_type": "code",
      "metadata": {
        "colab": {
          "base_uri": "https://localhost:8080/"
        },
        "id": "assigned-carry",
        "outputId": "f3dad1e3-fba6-4fc6-da65-81230f2888f8"
      },
      "source": [
        "xgb = XGBRegressor()\n",
        "xgb_parameters = {    'learning_rate': [.03, 0.05, .07],\n",
        "              'max_depth': [5, 6, 7],\n",
        "              'subsample': [0.7],\n",
        "              'n_estimators': [500],\n",
        "              'random_state' : [1] }\n",
        "\n",
        "model2 = GridSearchCV(xgb,xgb_parameters, cv = 2, n_jobs = 5,)\n",
        "\n",
        "model2.fit(X_train,Y_train)\n",
        "\n",
        "print(model2.score(X_train, Y_train))\n",
        "\n",
        "print(model2.best_params_)\n",
        "# 0.9996671090441286\n",
        "# {'learning_rate': 0.05, 'max_depth': 6, 'n_estimators': 500, 'random_state': 1, 'subsample': 0.7}"
      ],
      "id": "assigned-carry",
      "execution_count": 150,
      "outputs": [
        {
          "output_type": "stream",
          "text": [
            "[14:34:16] WARNING: /workspace/src/objective/regression_obj.cu:152: reg:linear is now deprecated in favor of reg:squarederror.\n",
            "0.9996671090441286\n",
            "{'learning_rate': 0.05, 'max_depth': 6, 'n_estimators': 500, 'random_state': 1, 'subsample': 0.7}\n"
          ],
          "name": "stdout"
        }
      ]
    },
    {
      "cell_type": "markdown",
      "metadata": {
        "id": "wWuchKZk_RJx"
      },
      "source": [
        "Grid search ( XGBRegressor ) :\n",
        "\n",
        "參數項目 :\n",
        "  \n",
        "  - learning_rate : 學習率，通常為 0.01-0.2，越小訓練越慢。 此為調參項目之一。\n",
        "\n",
        "  - max_depth : 限制樹的最大深度，超過設定深度的樹枝全部剪掉。而這個並非數值大或小就絕對好或壞，需做嘗試，因此適合拿來調參。\n",
        "\n",
        "  - subsample : 控制對於每棵樹隨機採樣的比例。減小這個參數的值可以避免overfitting，但如果這個值設過小，可能會導致underfitting，而典型值為0.5-1，這邊選擇0.7。\n",
        "\n",
        "  - n_estimators : 建立子樹數量，通常為越多越好(在性能許可的狀態下)，這裡直接給予 500。\n",
        "\n",
        "  - random_state : 設定參數種子，直接給定為1，保留結果。\n"
      ],
      "id": "wWuchKZk_RJx"
    },
    {
      "cell_type": "code",
      "metadata": {
        "colab": {
          "base_uri": "https://localhost:8080/",
          "height": 298
        },
        "id": "weird-humanity",
        "outputId": "f60c8785-fccd-4851-e612-95bad39a4889"
      },
      "source": [
        "plt.scatter(\n",
        "    y=Y_test,\n",
        "    x=model2.predict(X_test),\n",
        "    color='blue'\n",
        ")\n",
        "\n",
        "plt.show()\n",
        "\n",
        "print(r2_score(Y_test, model2.predict(X_test)))\n",
        "print(mean_squared_error(Y_test, model2.predict(X_test)))\n",
        "\n",
        "# 0.9235766423321546\n",
        "# 7.631333638672149"
      ],
      "id": "weird-humanity",
      "execution_count": 151,
      "outputs": [
        {
          "output_type": "display_data",
          "data": {
            "image/png": "[encoded data removed]",
            "text/plain": [
              "<Figure size 432x288 with 1 Axes>"
            ]
          },
          "metadata": {
            "tags": [],
            "needs_background": "light"
          }
        },
        {
          "output_type": "stream",
          "text": [
            "0.9235766423321546\n",
            "7.631333638672149\n"
          ],
          "name": "stdout"
        }
      ]
    },
    {
      "cell_type": "markdown",
      "metadata": {
        "id": "t87fiS9ogc5Z"
      },
      "source": [
        "由分布圖可以看到訓練的模型結果同樣較 Linear Regression 為佳許多。"
      ],
      "id": "t87fiS9ogc5Z"
    },
    {
      "cell_type": "markdown",
      "metadata": {
        "id": "continuous-vampire"
      },
      "source": [
        "### (Bonus) TODO #12: 超越助教的分數，並且說明如何做到\n",
        "- R2:  0.8831229012211493\n",
        "- Test loss (MSE):  9.150760226336033\n",
        "\n"
      ],
      "id": "continuous-vampire"
    },
    {
      "cell_type": "code",
      "metadata": {
        "colab": {
          "base_uri": "https://localhost:8080/"
        },
        "id": "tWc1rKdejC9_",
        "outputId": "41ca8b25-9353-4ce4-94be-daf530efd97b"
      },
      "source": [
        "print(r2_score(Y_test, model2.predict(X_test)))\n",
        "print(mean_squared_error(Y_test, model2.predict(X_test)))"
      ],
      "id": "tWc1rKdejC9_",
      "execution_count": 152,
      "outputs": [
        {
          "output_type": "stream",
          "text": [
            "0.9235766423321546\n",
            "7.631333638672149\n"
          ],
          "name": "stdout"
        }
      ]
    },
    {
      "cell_type": "markdown",
      "metadata": {
        "id": "7iedvIBWjFN6"
      },
      "source": [
        "My Score :\n",
        "- R2:  0.9235766423321546\n",
        "- Test loss (MSE):  7.631333638672149\n",
        "\n",
        "如何做到 :\n",
        "\n",
        "1.   選擇不同模型會影響訓練結果，這邊最後選擇結果較好的 xgbregressor。\n",
        "2.   利用 GridSearch 調參，我們可以在多組參數組合之中找到最佳模型。    \n",
        "3.   我們根據關聯程度重新選擇關聯度高的 feature 做為新的 dataframe ，如此的處理可以使訓練模型更為精準。"
      ],
      "id": "7iedvIBWjFN6"
    },
    {
      "cell_type": "code",
      "metadata": {
        "colab": {
          "base_uri": "https://localhost:8080/"
        },
        "id": "legendary-integration",
        "outputId": "adffa19a-8731-41ce-b21e-0cdab3197088"
      },
      "source": [
        "# 請勿更動此區塊程式碼\n",
        "\n",
        "EXECUTION_END_TIME = time.time() # 計算執行時間\n",
        "print('total execution time: {}'.format(EXECUTION_END_TIME - EXECUTION_START_TIME))"
      ],
      "id": "legendary-integration",
      "execution_count": 153,
      "outputs": [
        {
          "output_type": "stream",
          "text": [
            "total execution time: 88.2176742553711\n"
          ],
          "name": "stdout"
        }
      ]
    }
  ]
}