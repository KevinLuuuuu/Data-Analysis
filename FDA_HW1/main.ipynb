{
  "nbformat": 4,
  "nbformat_minor": 0,
  "metadata": {
    "kernelspec": {
      "display_name": "Python 3",
      "language": "python",
      "name": "python3"
    },
    "language_info": {
      "codemirror_mode": {
        "name": "ipython",
        "version": 3
      },
      "file_extension": ".py",
      "mimetype": "text/x-python",
      "name": "python",
      "nbconvert_exporter": "python",
      "pygments_lexer": "ipython3",
      "version": "3.8.5"
    },
    "colab": {
      "name": "main.ipynb",
      "provenance": [],
      "collapsed_sections": [],
      "toc_visible": true
    }
  },
  "cells": [
    {
      "cell_type": "markdown",
      "metadata": {
        "id": "fM4Uq9xvXNxb"
      },
      "source": [
        "# 作業 2\n",
        "\n",
        "本作業使用 [Kaggle Titanic](https://www.kaggle.com/c/titanic/overview) 所提供的資料，根據鐵達尼號乘客資料預測生還者。\n",
        "我們只使用 `train.csv` 進行生還者預測（只有 `train.csv` 才有答案），而加分題需要額外使用 `test.csv` 並提交至 [Kaggle Titanic](https://www.kaggle.com/c/titanic/overview) 進行評分。\n",
        "\n",
        "本作業需要先學習[程式教材](https://github.com/IKMLab/course_material)中的以下部份：\n",
        "\n",
        "- [jupyter-基本功能](https://github.com/IKMLab/course_material/blob/master/jupyter-%E5%9F%BA%E6%9C%AC%E5%8A%9F%E8%83%BD.ipynb)\n",
        "- [python-入門語法](https://github.com/IKMLab/course_material/blob/master/python-%E5%85%A5%E9%96%80%E8%AA%9E%E6%B3%95.ipynb)\n",
        "- [numpy-基本功能](https://github.com/IKMLab/course_material/blob/master/numpy-%E5%9F%BA%E6%9C%AC%E5%8A%9F%E8%83%BD.ipynb)\n",
        "- [pandas-基本功能](https://github.com/IKMLab/course_material/blob/master/pandas-%E5%9F%BA%E6%9C%AC%E5%8A%9F%E8%83%BD.ipynb)\n",
        "- [matplotlib-資料視覺化](https://github.com/IKMLab/course_material/blob/master/matplotlib-%E8%B3%87%E6%96%99%E8%A6%96%E8%A6%BA%E5%8C%96.ipynb)\n",
        "- [scikit-learn-基本功能](https://github.com/IKMLab/course_material/blob/master/scikit-learn-%E5%9F%BA%E6%9C%AC%E5%8A%9F%E8%83%BD.ipynb)"
      ]
    },
    {
      "cell_type": "markdown",
      "metadata": {
        "id": "jnrN9ecpXNxi"
      },
      "source": [
        "## 繳交規則\n",
        "\n",
        "1. 請將**當前資料夾**命名為 `FDA_HW2_你的學號`\n",
        "    - 例如：`FDA_HW2_F12345678`\n",
        "    - 所有**英文**都必須**大寫**\n",
        "    - 所有**文字**都必須在 **ASCII** 範圍\n",
        "2. 請將本檔案命名為 `main.ipynb`\n",
        "3. 請描述開發所需要的**環境**，包含：\n",
        "    - **作業系統**與**發行版本**\n",
        "        - 例如：Windows、Mac、Linux 等\n",
        "        - 需要填寫系統**名稱**與**版本**\n",
        "    - **程式執行環境**\n",
        "        - 例如：jupyter、kaggle kernel、colab 等\n",
        "        - 如果是 jupyter 請**填寫**版本\n",
        "        - 如果是雲端計算資源**不需填寫**版本\n",
        "        - 請**勿**使用**付費**資源，助教薪水**微薄**\n",
        "    - **python 版本**\n",
        "        - 例如：3.6.9\n",
        "        - 填寫**至少**能執行的版本即可\n",
        "    - **安裝環境**\n",
        "        - 例如使用 `pip`、`conda` 等\n",
        "        - 助教會以虛擬環境測試\n",
        "    - **安裝套件**與**版本**\n",
        "        - 請使用 `requirements.txt`\n",
        "        - 助教會以虛擬環境測試\n",
        "        - 請**不要**附上**多餘**的套件\n",
        "    - **計算資源**\n",
        "        - 使用 CPU **數量**\n",
        "        - GPU 版本\n",
        "    - **執行**所需花費**時間**\n",
        "        - 請**不要更改**擁有註解 `請勿更動此區塊程式碼` 的程式碼區塊\n",
        "4. 請**保留執行結果**讓助教可以直接觀看\n",
        "    - 請記得使用 **Save**\n",
        "    - **雲端**計算資源請**儲存**後**下載**檔案\n",
        "    - 所有程式區塊**必須依序執行**\n",
        "    - 請**不要**保留**多餘**的程式區塊\n",
        "5. 請**控制隨機亂數**讓實驗結果可以**重現**\n",
        "    - 關鍵字：**random seed**\n",
        "6. 請**不要**上傳**多餘**的檔案\n",
        "    - 不要上傳**資料**檔案，包含 `train.csv` 與 `test.csv` 等\n",
        "    - 不要上傳**隱藏**檔案，包含 `.git`、`.ipynb_checkpoints` 等\n",
        "    - 不要上傳**虛擬環境**\n",
        "7. 請附上**參考連結**\n",
        "    - 可以參考公開的 kernel\n",
        "    - 沒附上連結者視同**瓢竊**\n",
        "    - 使用的**演算法**請附上來源，並大致描述概念\n",
        "8. 請**壓縮**成 `zip` 並上傳至 [moodle](http://moodle.ncku.edu.tw/)\n",
        "    - 例如 `FDA_HW2_F12345678.zip`"
      ]
    },
    {
      "cell_type": "markdown",
      "metadata": {
        "id": "hk2bw8VcXNxj"
      },
      "source": [
        "## 評分標準\n",
        "\n",
        "如果有參考其他作法卻沒有附上來源，則直接視為瓢竊，得分為 $-\\infty$。\n",
        "\n",
        "|規則|滿足規則得分|沒滿足規則失分|\n",
        "|-|-|-|\n",
        "|資料夾名稱符合繳交規則|0|-60|\n",
        "|檔案名稱符合繳交規則|0|-60|\n",
        "|填寫環境需求|0|-60|\n",
        "|填寫計算資源|0|-60|\n",
        "|提供 `requirements.txt`|0|-60|\n",
        "|將資料夾壓縮成 `zip`|0|-60|\n",
        "|不更改擁有註解 `請勿更動此區塊程式碼` 的程式碼區塊|0|-60|\n",
        "|計算並顯示執行時間|0|-60|\n",
        "|控制隨機亂數讓實驗結果可以重現|0|-60|\n",
        "|使用 `markdown` 區塊描述資料分析內容|+3|-10|\n",
        "|以資料視覺化輔助資料分析並以 `markdown` 區塊輔助描述圖中資訊|+7|-10|\n",
        "|選擇使用 `Sex` 與 `Age` 以外的特徵作為輸入並以 `markdown` 區塊描述方法與理由|+5|-10|\n",
        "|處理缺失值並以 `markdown` 區塊描述方法與理由|+5|-10|\n",
        "|轉換數值資料並以 `markdown` 區塊描述方法與理由|+5|-10|\n",
        "|轉換類別資料並以 `markdown` 區塊描述方法與理由|+5|-10|\n",
        "|使用其他方法進行資料前處理並以 `markdown` 區塊描述理由|+10|0|\n",
        "|使用決策樹以外的模型進行實驗|+10|-10|\n",
        "|使用 `markdown` 區塊簡單解釋模型演算法|+10|0|\n",
        "|解釋模型超參數的選擇理由|+5|-10|\n",
        "|使用 5-fold cross validation 輸出平均準確度|+5|-10|\n",
        "|使用所有資料訓練模型並輸出準確度|+5|-10|\n",
        "|使用多個不同模型進行實驗|+10|0|\n",
        "|使用 ensemble 進行實驗|+10|0|\n",
        "|試著讓其中一個實驗模型 overfitting（訓練與驗證準確度差距 > $10\\%$）|+9|0|\n",
        "|試著讓其中一個實驗模型 underfitting（訓練準確度約 $50\\% \\pm 10\\%$）|+1|0|\n",
        "|準確度超越課堂範例（$81\\%$）|+10|-10|\n",
        "|將最佳實驗結果套用到 `test.csv` 並截圖 Kaggle 評分|+10|0|\n",
        "|將最佳實驗結果套用到 `test.csv` 並取得 Kaggle Public Leaderboard Top $10\\%$|+20|0|\n",
        "|將最佳實驗結果套用到 `test.csv` 並取得 Kaggle Public Leaderboard Top $5\\%$|+30|0|\n",
        "|將最佳實驗結果套用到 `test.csv` 並取得 Kaggle Public Leaderboard Top $1\\%$|+50|0|"
      ]
    },
    {
      "cell_type": "markdown",
      "metadata": {
        "id": "hZhdX-hfXNxk"
      },
      "source": [
        "## 環境\n",
        "\n",
        "請填寫當前執行使用的環境。\n",
        "\n",
        "|環境|名稱|版本|\n",
        "|-|-|-|\n",
        "|作業系統|Ubuntu|18.04 LTS|\n",
        "|程式執行環境|colab||\n",
        "|python 版本|python3|3.6.9|\n",
        "|安裝環境|pip|20.0.2|"
      ]
    },
    {
      "cell_type": "markdown",
      "metadata": {
        "id": "K_ieR-DVXNxk"
      },
      "source": [
        "## 安裝\n",
        "\n",
        "請填寫安裝套件需要的指令\n",
        "\n",
        "```sh\n",
        "pip install -r requirements.txt\n",
        "```"
      ]
    },
    {
      "cell_type": "markdown",
      "metadata": {
        "id": "jNC7ZtiYXNxl"
      },
      "source": [
        "## 計算資源\n",
        "\n",
        "請填寫執行程式所需要的計算資源，請確保所有資源限制在單一個人桌上型電腦且能夠以總市價低於 5 萬的手段取得。\n",
        "\n",
        "|計算資源|答案|\n",
        "|-|-|\n",
        "|使用 CPU 核心數|1|\n",
        "|記憶體需求|$\\leq 1$GB|\n",
        "|有無使用 GPU|無|\n",
        "|GPU 版本|無|\n",
        "|GPU 記憶體需求|$\\leq 1$GB|"
      ]
    },
    {
      "cell_type": "markdown",
      "metadata": {
        "id": "8soseKByXNxl"
      },
      "source": [
        "## 參考連結\n",
        "\n",
        "- 有無參考他人之實驗結果：有\n",
        "- 參考連結：\n",
        "\n",
        "\n",
        "\n",
        "1.  https://www.kaggle.com/startupsci/titanic-data-science-solutions\n",
        "2.  https://chtseng.wordpress.com/2017/12/24/kaggle-titanic%E5%80%96%E5%AD%98%E9%A0%90%E6%B8%AC-1/\n",
        "3.  https://www.kaggle.com/ldfreeman3/a-data-science-framework-to-achieve-99-accuracy/output  \n",
        "\n"
      ]
    },
    {
      "cell_type": "code",
      "metadata": {
        "id": "caaG9Bz9XNxl"
      },
      "source": [
        "# 請勿更動此區塊程式碼\n",
        "\n",
        "import time\n",
        "import numpy as np\n",
        "import pandas as pd\n",
        "\n",
        "EXECUTION_START_TIME = time.time() # 計算執行時間\n",
        "\n",
        "df = pd.read_csv('train.csv')      # 讀取資料，請勿更改路徑"
      ],
      "execution_count": 44,
      "outputs": []
    },
    {
      "cell_type": "markdown",
      "metadata": {
        "id": "R3uoZn7cXNxm"
      },
      "source": [
        "## 資料分析與前處理\n",
        "\n",
        "請在此區塊後使用**一個或多個區塊**進行資料分析與前處理，項目可以包含：\n",
        "\n",
        "- 資料視覺化\n",
        "- 相關係數\n",
        "- 決定輸入特徵\n",
        "- 處理缺失值\n",
        "- 轉換數值\n",
        "- 轉換類別\n",
        "- 其他\n",
        "\n",
        "請以 `markdown` 簡單描述**流程**、**方法**與**原因**：\n",
        "\n",
        "1. 觀察...，發現...\n",
        "2. 填補...，策略...\n",
        "3. 轉換...，原因..."
      ]
    },
    {
      "cell_type": "markdown",
      "metadata": {
        "id": "-fQFJ1MwiMUJ"
      },
      "source": [
        "使用 markdown 區塊描述資料分析內容 :\n",
        "\n",
        "此資料提供了鐵達尼號上乘客有關的資料，並以此些資料進行乘客生存與否的預測，其中 train.csv 裡含有891筆乘客資料。欄位如下 :\n",
        "- PassengerId : 乘客的 ID 編號\n",
        "- Survival : 是否生存下來。0 = No, 1 = Yes。\n",
        "- Pclass : 船票等級。1為最高等。\n",
        "- Sex : 性別。\n",
        "- Age : 年齡。\n",
        "- Sibsp : 在船上同為兄弟姐妹或配偶的數目。\n",
        "- Parch : 在船上同為家族的父母及小孩的數目。\n",
        "- Ticket : 船票編號。\n",
        "- Fare : 船票價格。\n",
        "- Cabin : 船艙號碼。\n",
        "- Embarked : 登船的口岸。\n",
        "\n",
        "根據以上資料，我們可以進行處理和分析，找出能夠預測乘客倖存與否的關鍵因素。"
      ]
    },
    {
      "cell_type": "code",
      "metadata": {
        "id": "DLMgjntiFq7a"
      },
      "source": [
        "# 資料分析與前處理\n",
        "\n",
        "train_x = df[['Name', 'Pclass', 'Sex', 'Age', 'Fare', 'SibSp', 'Parch', 'Embarked']]  # 取出訓練資料需要分析的資料欄位\n",
        "train_y = df['Survived']                       # 取出訓練資料的答案\n",
        "\n",
        "df_test = pd.read_csv('test.csv')  # 取出測試資料集 \n",
        "test_x = df_test[['Name', 'Pclass', 'Sex', 'Age', 'Fare', 'SibSp', 'Parch', 'Embarked']]\n",
        "\n",
        "import seaborn as sns\n",
        "import matplotlib.pyplot as plt\n",
        "import warnings\n",
        "from sklearn.impute import SimpleImputer       # 匯入填補缺失值的工具\n",
        "from sklearn.preprocessing import LabelEncoder # 匯入 Label Encoder\n",
        "\n",
        "warnings.filterwarnings('ignore') "
      ],
      "execution_count": 45,
      "outputs": []
    },
    {
      "cell_type": "code",
      "metadata": {
        "colab": {
          "base_uri": "https://localhost:8080/",
          "height": 1000
        },
        "id": "7tvLnV8pmbvb",
        "outputId": "8c02fdaf-db11-406c-e690-b182c77b2b02"
      },
      "source": [
        "# 資料視覺化\n",
        "\n",
        "# 處理畫圖資料\n",
        "total_sex = df['Sex'].value_counts()\n",
        "survived_sex = df[df['Survived']==1]['Sex'].value_counts() / total_sex\n",
        "dead_sex = df[df['Survived']==0]['Sex'].value_counts() / total_sex # survived=0的sex的value counts\n",
        "\n",
        "total_Class = df['Pclass'].value_counts()\n",
        "survived_Class = df[df['Survived']==1]['Pclass'].value_counts() / total_Class\n",
        "dead_Class = df[df['Survived']==0]['Pclass'].value_counts() / total_Class\n",
        "\n",
        "# 圖一 不同性別死亡率比較\n",
        "df_SexWith_SurvivedDead = pd.DataFrame([survived_sex,dead_sex])\n",
        "df_SexWith_SurvivedDead.index = ['Survived','Dead']\n",
        "df_SexWith_SurvivedDead.plot(kind='bar', stacked=False, figsize=(6,4))\n",
        "plt.show()\n",
        "\n",
        "\n",
        "# 圖二 不同Class死亡率比較\n",
        "df_ClassWith_SurvivedDead = pd.DataFrame([survived_Class,dead_Class])\n",
        "df_ClassWith_SurvivedDead.index = ['Survived','Dead']\n",
        "df_ClassWith_SurvivedDead.plot(kind='bar', stacked=False, figsize=(6,4))\n",
        "plt.show()\n",
        "\n",
        "\n",
        "# 圖三 相關係數圖\n",
        "sns.heatmap(df.corr(),annot=True,square=True,linewidths=0.2) #data.corr()-->correlation matrix\n",
        "fig=plt.gcf()\n",
        "fig.set_size_inches(10,8)\n",
        "plt.show()"
      ],
      "execution_count": 46,
      "outputs": [
        {
          "output_type": "display_data",
          "data": {
            "image/png": "[encoded data removed]",
            "text/plain": [
              "<Figure size 432x288 with 1 Axes>"
            ]
          },
          "metadata": {
            "tags": [],
            "needs_background": "light"
          }
        },
        {
          "output_type": "display_data",
          "data": {
            "image/png": "[encoded data removed]",
            "text/plain": [
              "<Figure size 432x288 with 1 Axes>"
            ]
          },
          "metadata": {
            "tags": [],
            "needs_background": "light"
          }
        },
        {
          "output_type": "display_data",
          "data": {
            "image/png": "[encoded data removed]",
            "text/plain": [
              "<Figure size 720x576 with 2 Axes>"
            ]
          },
          "metadata": {
            "tags": [],
            "needs_background": "light"
          }
        }
      ]
    },
    {
      "cell_type": "markdown",
      "metadata": {
        "id": "IeXGXjOlGmrc"
      },
      "source": [
        "資料視覺化 :\n",
        "\n",
        "**圖一 性別與死亡率的關係**\n",
        "- 觀察圖中資料，我們可以發現船上男性的死亡率遠高於女性，也就是說，女性生還的機會較高。而這也是因為事故發生時，女性是優先被安排登上救生艇的。\n",
        "\n",
        "**圖二 Class與死亡率的關係**\n",
        "- 同樣觀察圖中資料，我們可以發現 Class3 到 Class1 的死亡率呈遞減，\n",
        "而 Class 3 為等級最低且 Class 1 等級最高，因此這表示了船票等級越高的人(越有錢的人)，生還機會越高。\n",
        "\n",
        "**圖三 相關係數圖**\n",
        "- 我們可以直接畫出一個熱點圖表示每個欄位之間的相關程度，如我們可以看到 Survived 和 Pclass 之間確實具有負相關性，而和 Fare 具有正相關性 ; 但 Survived 和 PassengerId 相關性就極低。\n",
        "\n",
        "選擇使用 Sex 與 Age 以外的特徵理由 :\n",
        "\n",
        "由於 PassengerId 關聯性過小，Ticket 過於瑣碎 和 Cabin 缺失值太多，因此這三欄不參與特徵的訓練，其餘我認為皆可能為有用資訊可以使用。\n"
      ]
    },
    {
      "cell_type": "code",
      "metadata": {
        "id": "JN-Oons3XNxm"
      },
      "source": [
        "# 處理缺失值\n",
        "\n",
        "# 填補缺失值(Age)\n",
        "imputer = SimpleImputer(strategy='median')     # 創造 imputer 並設定填補策略\n",
        "age = train_x['Age'].to_numpy().reshape(-1, 1)\n",
        "imputer.fit(age)                               # 根據資料學習需要填補的值\n",
        "train_x['Age'] = imputer.transform(age)        # 填補缺失值\n",
        "\n",
        "test_x['Age'].fillna(28, inplace=True) # 直接補28\n",
        "\n",
        "\n",
        "# 填補缺失值(Fare)\n",
        "imputer = SimpleImputer(strategy='median')\n",
        "fare_2 = test_x['Fare'].to_numpy().reshape(-1, 1)\n",
        "imputer.fit(fare_2)\n",
        "test_x['Fare'] = imputer.transform(fare_2)\n",
        "\n",
        "# 填補缺失值(Embarked)\n",
        "train_x['Embarked'].fillna('S',inplace=True)\n",
        "\n",
        "test_x['Embarked'].fillna('S',inplace=True)\n"
      ],
      "execution_count": 47,
      "outputs": []
    },
    {
      "cell_type": "markdown",
      "metadata": {
        "id": "H1XTDAhHocg8"
      },
      "source": [
        "處理缺失值 :\n",
        "\n",
        "透過print出來的資訊，可以看到 train 資料少了170筆 Age 資料，680筆 Cabin 資料，以及2筆 Embarked 資料，如果不做處理可能會影響到機器學習的品質與學習成果\n",
        "\n",
        "而由於 Cabin 資料過於瑣碎，因此我們直接不予放進 train_x\n",
        "\n",
        "- Age\n",
        "  \n",
        "  採用取資料的 median 做填補的動作，不取平均數是為了避免極端值影響平均數結果，因此採用中位數。\n",
        "\n",
        "- Fare\n",
        "  \n",
        "  此缺失值是出現在 test.csv。同上採用取資料的 median 做填補的動作，不取平均數是為了避免極端值影響平均數結果，因此採用中位數。\n",
        "\n",
        "- Embarked\n",
        "\n",
        "  採取直接填補 S 的方式，因為透過 print 出來的資訊，發現大部分的人的 Embarked 都為 S，且只有兩筆資料缺少，因此直接填補。\n"
      ]
    },
    {
      "cell_type": "code",
      "metadata": {
        "id": "B5NBByzbzyZy"
      },
      "source": [
        "# 轉換數值資料\n",
        "\n",
        "# 利用區間將 Fare 和 Age 做分群\n",
        "train_x['FareBin'] = pd.qcut(train_x['Fare'], 4)\n",
        "train_x.drop(['Fare'],axis=1,inplace=True)\n",
        "train_x['AgeBin'] = pd.cut(train_x['Age'].astype(int), 5)\n",
        "train_x.drop(['Age'],axis=1,inplace=True)\n",
        "\n",
        "test_x['FareBin'] = pd.qcut(test_x['Fare'], 4)\n",
        "test_x.drop(['Fare'],axis=1,inplace=True)\n",
        "test_x['AgeBin'] = pd.cut(test_x['Age'].astype(int), 5)\n",
        "test_x.drop(['Age'],axis=1,inplace=True)\n"
      ],
      "execution_count": 48,
      "outputs": []
    },
    {
      "cell_type": "markdown",
      "metadata": {
        "id": "GlRDnt-0pivt"
      },
      "source": [
        "轉換數值資料 :\n",
        "\n",
        "- 利用區間將 Fare 和 Age 做分群\n",
        "\n",
        "  我們利用各個數字所在的區間將 Fare 和 Age 做離散化分群的動作，目的是為了避免連續數據會影響到機器學習的效果。Fare 利用 qcut ，也就是等頻分箱，共分為四個區塊，每個區塊中的 element 數相等 ; 而 Age 則是等距分箱，共5個區塊，每個區塊的區間相同。"
      ]
    },
    {
      "cell_type": "code",
      "metadata": {
        "id": "jjTXAvMuyDIq"
      },
      "source": [
        "# 轉換類別資料\n",
        "\n",
        "le = LabelEncoder()       # 創造 Label Encoder \n",
        "\n",
        "# 轉換類別(Sex)\n",
        "le.fit(train_x['Sex'])                         # 給予每個類別一個數值\n",
        "train_x['Sex'] = le.transform(train_x['Sex'])  # 轉換所有類別成為數值 male為1，female為0 \n",
        "\n",
        "le.fit(test_x['Sex'])\n",
        "test_x['Sex'] = le.transform(test_x['Sex'])\n",
        "\n",
        "# 轉換類別(Embarked)\n",
        "le.fit(train_x['Embarked'])\n",
        "train_x['Embarked'] = le.transform(train_x['Embarked'])\n",
        "\n",
        "le.fit(test_x['Embarked'])\n",
        "test_x['Embarked'] = le.transform(test_x['Embarked'])\n"
      ],
      "execution_count": 49,
      "outputs": []
    },
    {
      "cell_type": "markdown",
      "metadata": {
        "id": "jejgmTUKr1e-"
      },
      "source": [
        "轉換類別資料 :\n",
        "\n",
        "利用 LabelEncoder，將 Sex 和 Embarked 兩欄的所有類別轉為相對應的數字，目的是為了方便計算及放進訓練模型裡做訓練。"
      ]
    },
    {
      "cell_type": "code",
      "metadata": {
        "id": "eY3MUFN10hG9"
      },
      "source": [
        "# 其他方法進行資料前處理\n",
        "\n",
        "# 將 Name 之中的 title 做分離，如 Mr.、Mrs.\n",
        "train_x['Title'] = train_x['Name'].str.split(\", \", expand=True)[1].str.split(\".\", expand=True)[0]\n",
        "title_count = 8\n",
        "title_names = (train_x['Title'].value_counts() < title_count)\n",
        "train_x['Title'] = train_x['Title'].apply(lambda x: 'Miscellaneous' if title_names.loc[x] == True else x) # 如果相同項目少於10個，就自己弄成一類 Misc\n",
        "\n",
        "test_x['Title'] = test_x['Name'].str.split(\", \", expand=True)[1].str.split(\".\", expand=True)[0]\n",
        "stat_min = 10\n",
        "title_names = (test_x['Title'].value_counts() < title_count)\n",
        "test_x['Title'] = test_x['Title'].apply(lambda x: 'Miscellaneous' if title_names.loc[x] == True else x)\n",
        "\n",
        "\n",
        "# 轉換類別資料(區間)\n",
        "le.fit(train_x['FareBin'])\n",
        "train_x['FareBin'] = le.transform(train_x['FareBin'])\n",
        "le.fit(train_x['AgeBin'])\n",
        "train_x['AgeBin'] = le.transform(train_x['AgeBin'])\n",
        "\n",
        "le.fit(test_x['FareBin'])\n",
        "test_x['FareBin'] = le.transform(test_x['FareBin'])\n",
        "le.fit(test_x['AgeBin'])\n",
        "test_x['AgeBin'] = le.transform(test_x['AgeBin'])\n",
        "\n",
        "\n",
        "# 轉換類別資料(Title)\n",
        "le.fit(train_x['Title'])\n",
        "train_x['Title'] = le.transform(train_x['Title'])\n",
        "\n",
        "le.fit(test_x['Title'])\n",
        "test_x['Title'] = le.transform(test_x['Title'])\n",
        "\n",
        "\n",
        "# 新增欄位 FamilySize 和 Alone\n",
        "train_x['FamilySize'] = train_x['SibSp'] + train_x['Parch'] + 1 # 計算家人數目(包括自己)\n",
        "train_x['Alone'] = 0\n",
        "train_x.loc[train_x.FamilySize == 1,'Alone'] = 1 # 家人數目為1則表示為單獨\n",
        "\n",
        "test_x['FamilySize'] = test_x['SibSp'] + test_x['Parch'] + 1\n",
        "test_x['Alone'] = 0\n",
        "test_x.loc[test_x.FamilySize == 1,'Alone'] = 1\n",
        "\n",
        "\n",
        "# 去掉不必要的欄位\n",
        "\n",
        "train_x.drop(['SibSp','Parch','Name'],axis = 1,inplace = True)\n",
        "\n",
        "test_x.drop(['SibSp','Parch','Name'],axis = 1,inplace = True)\n"
      ],
      "execution_count": 50,
      "outputs": []
    },
    {
      "cell_type": "markdown",
      "metadata": {
        "id": "4wmvj2eks8hi"
      },
      "source": [
        "其他方法進行資料前處理 :\n",
        "\n",
        "- 將 Name 之中的 title 做分離，如 Mr.、Mrs.\n",
        "\n",
        "  想了解 Name 的 title 是否也與生存結果具有相關性，因此我們將 Name 欄位做處理，取出各個的 title，一個要注意的地方就是，有些人的 title 較為特殊，因此我們做了計算，如果同樣 title 的數量小於 8，就歸類在一個叫 Miscellaneous 群之中，避免過雜的資料影響訓練。\n",
        "- 轉換類別資料(區間、title)\n",
        "\n",
        "  將處理完的區間及 title 轉換為其相對應的數值，以供訓練模型。\n",
        "- 新增欄位 FamilySize 和 Alone\n",
        "\n",
        "  想觀察 family 人數以及是否隻身一人是否影響最後生存關鍵，創造了兩個新欄位，FamilySize 和 Alone，FamilySize 為 SibSp + Parch 再加上自己成為 family 總人數 ; Alone 為當 family 人數為 1 時，表示是隻身一人，則Alone 設為1。\n",
        "\n",
        "- 去掉不必要的欄位\n",
        "\n",
        "  將已經處理完的前資料欄位去除\n"
      ]
    },
    {
      "cell_type": "markdown",
      "metadata": {
        "id": "p0F0R4n6XNxn"
      },
      "source": [
        "## 模型訓練\n",
        "\n",
        "請在此區塊後使用**一個或多個區塊**進行模型訓練，**需要**包含以下內容：\n",
        "\n",
        "- **選擇模型**\n",
        "    - 設定模型**超參數**\n",
        "    - **控制隨機亂數**\n",
        "- 計算**準確度（Accuracy）**\n",
        "    - 使用 **5-fold cross validation**，輸出**平均準確度**\n",
        "    - 最後再使用**所有**資料進行訓練並輸出**準確度**\n",
        "    - 準確度必須**超越**課堂使用的範例\n",
        "    \n",
        "如果有進行多於一個以上的實驗，**可以保留所有**的實驗結果，但是執行時間將會納入**全部**實驗。"
      ]
    },
    {
      "cell_type": "code",
      "metadata": {
        "id": "6xLw_nmgXNxn",
        "colab": {
          "base_uri": "https://localhost:8080/"
        },
        "outputId": "d1f13e61-0987-472c-8804-eacf80870662"
      },
      "source": [
        "# 模型訓練\n",
        "\n",
        "from sklearn.svm import SVC\n",
        "from xgboost import XGBClassifier\n",
        "from sklearn.ensemble import RandomForestClassifier\n",
        "from sklearn.ensemble import GradientBoostingClassifier\n",
        "\n",
        "from sklearn.model_selection import KFold             # 匯入 K 次交叉驗證工具\n",
        "from sklearn.tree import DecisionTreeClassifier       # 匯入決策樹模型\n",
        "from sklearn.metrics import accuracy_score            # 匯入準確度計算工具\n",
        "\n",
        "kf = KFold(n_splits=5,                                # 設定 K 值\n",
        "           random_state=1012,\n",
        "           shuffle=True)\n",
        "kf.get_n_splits(train_x)                              # 給予資料範圍\n",
        "\n",
        "train_acc_list = []                                   # 儲存每次訓練模型的準確度\n",
        "valid_acc_list = []                                   # 儲存每次驗證模型的準確度\n",
        "\n",
        "for train_index, valid_index in kf.split(train_x):    # 每個迴圈都會產生不同部份的資料\n",
        "    train_x_split = train_x.iloc[train_index]         # 產生訓練資料\n",
        "    train_y_split = train_y.iloc[train_index]         # 產生訓練資料標籤\n",
        "    valid_x_split = train_x.iloc[valid_index]         # 產生驗證資料\n",
        "    valid_y_split = train_y.iloc[valid_index]         # 產生驗證資料標籤\n",
        "  \n",
        "    model = DecisionTreeClassifier(criterion='gini',max_depth=4,random_state=1000) # 創造決策樹模型\n",
        "\n",
        "    model.fit(train_x_split, train_y_split)           # 訓練決策樹模型\n",
        "    \n",
        "    train_pred_y = model.predict(train_x_split)       # 確認模型是否訓練成功\n",
        "    train_acc = accuracy_score(train_y_split,         # 計算訓練資料準確度\n",
        "                               train_pred_y)\n",
        "    valid_pred_y = model.predict(valid_x_split)       # 驗證模型是否訓練成功\n",
        "    valid_acc = accuracy_score(valid_y_split,         # 計算驗證資料準確度\n",
        "                               valid_pred_y)\n",
        "    \n",
        "    train_acc_list.append(train_acc)\n",
        "    valid_acc_list.append(valid_acc)\n",
        "\n",
        "Survived = model.predict(test_x)\n",
        "submit = pd.DataFrame({'PassengerId' : df_test['PassengerId'],\n",
        "            'Survived' : Survived })\n",
        "submit.to_csv('./submit_DecisionTree.csv', index=False)\n",
        "\n",
        "print((\n",
        "    'average train accuracy: {}\\n' +\n",
        "    '    min train accuracy: {}\\n' +\n",
        "    '    max train accuracy: {}\\n' +\n",
        "    'average valid accuracy: {}\\n' +\n",
        "    '    min valid accuracy: {}\\n' +\n",
        "    '    max valid accuracy: {}').format(\n",
        "    np.mean(train_acc_list),                          # 輸出平均訓練準確度\n",
        "    np.min(train_acc_list),                           # 輸出最低訓練準確度\n",
        "    np.max(train_acc_list),                           # 輸出最高訓練準確度\n",
        "    np.mean(valid_acc_list),                          # 輸出平均驗證準確度\n",
        "    np.min(valid_acc_list),                           # 輸出最低驗證準確度\n",
        "    np.max(valid_acc_list)                            # 輸出最高驗證準確度\n",
        "))"
      ],
      "execution_count": 51,
      "outputs": [
        {
          "output_type": "stream",
          "text": [
            "average train accuracy: 0.839789936492428\n",
            "    min train accuracy: 0.8330995792426368\n",
            "    max train accuracy: 0.851123595505618\n",
            "average valid accuracy: 0.8272048207896553\n",
            "    min valid accuracy: 0.7877094972067039\n",
            "    max valid accuracy: 0.8539325842696629\n"
          ],
          "name": "stdout"
        }
      ]
    },
    {
      "cell_type": "markdown",
      "metadata": {
        "id": "9REs-w-_2Akq"
      },
      "source": [
        "Decision Tree 模型演算法 :\n",
        "\n",
        "決策樹採用樹的結構，並根據特徵層層推理來實現最終的分類。在預測時，於樹的內部某節點處會用某一特徵進行判斷，然後依判斷結果決定進入哪個分支節點繼續往下，直到到達葉節點，就是最後的分類結果。\n",
        "\n",
        "模型超參數的選擇理由 :\n",
        "- criterion : 選擇使用 gini，適用於數據維度大，以及有噪音的數據，且 若選擇 entropy 容易有 overfitting 的情形。\n",
        "- max_depth : 限制樹的最大深度，超過設定深度的樹枝全部剪掉。並非數值大或小就絕對好或壞，需做嘗試。\n",
        "- rand_state : 設定參數種子。"
      ]
    },
    {
      "cell_type": "code",
      "metadata": {
        "colab": {
          "base_uri": "https://localhost:8080/"
        },
        "id": "slxsFmDDojDC",
        "outputId": "34ee91a5-2321-4dd1-a5f4-bbc951ac5b24"
      },
      "source": [
        "# 使用決策樹以外的模型進行實驗\n",
        "\n",
        "kf = KFold(n_splits=5,                                # 設定 K 值\n",
        "           random_state=1012,\n",
        "           shuffle=True)\n",
        "kf.get_n_splits(train_x)                              # 給予資料範圍\n",
        "\n",
        "train_acc_list = []                                   # 儲存每次訓練模型的準確度\n",
        "valid_acc_list = []                                   # 儲存每次驗證模型的準確度\n",
        "\n",
        "for train_index, valid_index in kf.split(train_x):    # 每個迴圈都會產生不同部份的資料\n",
        "    train_x_split = train_x.iloc[train_index]         # 產生訓練資料\n",
        "    train_y_split = train_y.iloc[train_index]         # 產生訓練資料標籤\n",
        "    valid_x_split = train_x.iloc[valid_index]         # 產生驗證資料\n",
        "    valid_y_split = train_y.iloc[valid_index]         # 產生驗證資料標籤 \n",
        "\n",
        "    model = SVC(random_state = 100)                \n",
        "    model.fit(train_x_split, train_y_split)           # 訓練決策樹模型\n",
        "    \n",
        "    train_pred_y = model.predict(train_x_split)       # 確認模型是否訓練成功\n",
        "    train_acc = accuracy_score(train_y_split,         # 計算訓練資料準確度\n",
        "                               train_pred_y)\n",
        "    valid_pred_y = model.predict(valid_x_split)       # 驗證模型是否訓練成功\n",
        "    valid_acc = accuracy_score(valid_y_split,         # 計算驗證資料準確度\n",
        "                               valid_pred_y)\n",
        "    \n",
        "    train_acc_list.append(train_acc)\n",
        "    valid_acc_list.append(valid_acc)\n",
        "\n",
        "Survived = model.predict(test_x)\n",
        "submit = pd.DataFrame({'PassengerId' : df_test['PassengerId'],\n",
        "            'Survived' : Survived })\n",
        "submit.to_csv('./submit_SVC.csv', index=False) #0.78468\n",
        "\n",
        "print((\n",
        "    'average train accuracy: {}\\n' +\n",
        "    '    min train accuracy: {}\\n' +\n",
        "    '    max train accuracy: {}\\n' +\n",
        "    'average valid accuracy: {}\\n' +\n",
        "    '    min valid accuracy: {}\\n' +\n",
        "    '    max valid accuracy: {}').format(\n",
        "    np.mean(train_acc_list),                          # 輸出平均訓練準確度\n",
        "    np.min(train_acc_list),                           # 輸出最低訓練準確度\n",
        "    np.max(train_acc_list),                           # 輸出最高訓練準確度\n",
        "    np.mean(valid_acc_list),                          # 輸出平均驗證準確度\n",
        "    np.min(valid_acc_list),                           # 輸出最低驗證準確度\n",
        "    np.max(valid_acc_list)                            # 輸出最高驗證準確度\n",
        "))\n"
      ],
      "execution_count": 52,
      "outputs": [
        {
          "output_type": "stream",
          "text": [
            "average train accuracy: 0.8355788171517722\n",
            "    min train accuracy: 0.8288920056100981\n",
            "    max train accuracy: 0.8387096774193549\n",
            "average valid accuracy: 0.8294206264515724\n",
            "    min valid accuracy: 0.8156424581005587\n",
            "    max valid accuracy: 0.848314606741573\n"
          ],
          "name": "stdout"
        }
      ]
    },
    {
      "cell_type": "markdown",
      "metadata": {
        "id": "H7gT_cwOD6tK"
      },
      "source": [
        "SVC 模型演算法 :\n",
        "\n",
        "Support Vector Classification，為 SVM 中的其中一種。SVM 原理為找出一個可以區分兩類的 hyper plane，使得 margin 為最大。而所有的點就被稱為 Support Vector，將上述方法運用於分類的問題即是 SVC。\n",
        "\n",
        "模型超參數的選擇理由 :\n",
        "- rand_state : 設定參數種子。"
      ]
    },
    {
      "cell_type": "code",
      "metadata": {
        "colab": {
          "base_uri": "https://localhost:8080/"
        },
        "id": "PNB0gpSGkmL2",
        "outputId": "1f82a4f3-03e1-4836-8ae6-67f9da3a78e6"
      },
      "source": [
        "# 使用多個不同模型進行實驗\n",
        "\n",
        "kf = KFold(n_splits=5,                                # 設定 K 值\n",
        "           random_state=1012,\n",
        "           shuffle=True)\n",
        "kf.get_n_splits(train_x)                              # 給予資料範圍\n",
        "\n",
        "train_acc_list = []                                   # 儲存每次訓練模型的準確度\n",
        "valid_acc_list = []                                   # 儲存每次驗證模型的準確度\n",
        "\n",
        "for train_index, valid_index in kf.split(train_x):    # 每個迴圈都會產生不同部份的資料\n",
        "    train_x_split = train_x.iloc[train_index]         # 產生訓練資料\n",
        "    train_y_split = train_y.iloc[train_index]         # 產生訓練資料標籤\n",
        "    valid_x_split = train_x.iloc[valid_index]         # 產生驗證資料\n",
        "    valid_y_split = train_y.iloc[valid_index]         # 產生驗證資料標籤\n",
        "    \n",
        "    model = XGBClassifier(learning_rate=0.1, max_depth= 8, n_estimators=1000, random_state = 100)\n",
        "\n",
        "    model.fit(train_x_split, train_y_split)           # 訓練決策樹模型\n",
        "    \n",
        "    train_pred_y = model.predict(train_x_split)       # 確認模型是否訓練成功\n",
        "    train_acc = accuracy_score(train_y_split,         # 計算訓練資料準確度\n",
        "                               train_pred_y)\n",
        "    valid_pred_y = model.predict(valid_x_split)       # 驗證模型是否訓練成功\n",
        "    valid_acc = accuracy_score(valid_y_split,         # 計算驗證資料準確度\n",
        "                               valid_pred_y)\n",
        "    \n",
        "    train_acc_list.append(train_acc)\n",
        "    valid_acc_list.append(valid_acc)\n",
        "\n",
        "Survived = model.predict(test_x)\n",
        "submit = pd.DataFrame({'PassengerId' : df_test['PassengerId'],\n",
        "            'Survived' : Survived })\n",
        "submit.to_csv('./submit_XGBClassifier.csv', index=False)\n",
        "\n",
        "print((\n",
        "    'average train accuracy: {}\\n' +\n",
        "    '    min train accuracy: {}\\n' +\n",
        "    '    max train accuracy: {}\\n' +\n",
        "    'average valid accuracy: {}\\n' +\n",
        "    '    min valid accuracy: {}\\n' +\n",
        "    '    max valid accuracy: {}').format(\n",
        "    np.mean(train_acc_list),                          # 輸出平均訓練準確度\n",
        "    np.min(train_acc_list),                           # 輸出最低訓練準確度\n",
        "    np.max(train_acc_list),                           # 輸出最高訓練準確度\n",
        "    np.mean(valid_acc_list),                          # 輸出平均驗證準確度\n",
        "    np.min(valid_acc_list),                           # 輸出最低驗證準確度\n",
        "    np.max(valid_acc_list)                            # 輸出最高驗證準確度\n",
        "))\n"
      ],
      "execution_count": 53,
      "outputs": [
        {
          "output_type": "stream",
          "text": [
            "average train accuracy: 0.8905743259214901\n",
            "    min train accuracy: 0.8807854137447405\n",
            "    max train accuracy: 0.8976157082748948\n",
            "average valid accuracy: 0.8125980792166217\n",
            "    min valid accuracy: 0.7865168539325843\n",
            "    max valid accuracy: 0.8539325842696629\n"
          ],
          "name": "stdout"
        }
      ]
    },
    {
      "cell_type": "markdown",
      "metadata": {
        "id": "L-fgQcPT-08M"
      },
      "source": [
        "XGBClassifier 模型演算法 :\n",
        "\n",
        "是 Boosting 演算法的其中一種，Boosting 演算法的是將許多弱分類器整合在一起形成一個強分類器。而 XGBClassifier 將許多樹模型整合在一起，先從頂到底建立所有可以建立的子樹，再從底到頂反向剪枝。\n",
        "\n",
        "模型超參數的選擇理由 :\n",
        "- max_depth : 限制樹的最大深度，超過設定深度的樹枝全部剪掉。並非數值大或小就絕對好或壞，越大容易 overfitting，越小容易 underfitting，因此需做嘗試。\n",
        "- learning_rate : 學習率，通常為 0.01-0.2，越小訓練越慢。\n",
        "- n_estimators : 建立子樹數量，通常為越多越好(在性能許可的狀態下)\n",
        "- random_state  : 設定參數種子。"
      ]
    },
    {
      "cell_type": "code",
      "metadata": {
        "colab": {
          "base_uri": "https://localhost:8080/"
        },
        "id": "bIX8ShGAkmDA",
        "outputId": "c15cd3de-ae94-4104-ad99-eb35cd2190ea"
      },
      "source": [
        "# 使用多個不同模型進行實驗\n",
        "\n",
        "kf = KFold(n_splits=5,                                # 設定 K 值\n",
        "           random_state=1012,\n",
        "           shuffle=True)\n",
        "kf.get_n_splits(train_x)                              # 給予資料範圍\n",
        "\n",
        "train_acc_list = []                                   # 儲存每次訓練模型的準確度\n",
        "valid_acc_list = []                                   # 儲存每次驗證模型的準確度\n",
        "\n",
        "for train_index, valid_index in kf.split(train_x):    # 每個迴圈都會產生不同部份的資料\n",
        "    train_x_split = train_x.iloc[train_index]         # 產生訓練資料\n",
        "    train_y_split = train_y.iloc[train_index]         # 產生訓練資料標籤\n",
        "    valid_x_split = train_x.iloc[valid_index]         # 產生驗證資料\n",
        "    valid_y_split = train_y.iloc[valid_index]         # 產生驗證資料標籤\n",
        "    \n",
        "    model = GradientBoostingClassifier(random_state=1000)\n",
        "\n",
        "    model.fit(train_x_split, train_y_split)           # 訓練決策樹模型\n",
        "    \n",
        "    train_pred_y = model.predict(train_x_split)       # 確認模型是否訓練成功\n",
        "    train_acc = accuracy_score(train_y_split,         # 計算訓練資料準確度\n",
        "                               train_pred_y)\n",
        "    valid_pred_y = model.predict(valid_x_split)       # 驗證模型是否訓練成功\n",
        "    valid_acc = accuracy_score(valid_y_split,         # 計算驗證資料準確度\n",
        "                               valid_pred_y)\n",
        "    \n",
        "    train_acc_list.append(train_acc)\n",
        "    valid_acc_list.append(valid_acc)\n",
        "\n",
        "Survived = model.predict(test_x)\n",
        "submit = pd.DataFrame({'PassengerId' : df_test['PassengerId'],\n",
        "            'Survived' : Survived })\n",
        "submit.to_csv('./submit_GradientBoostingClassifier.csv', index=False)\n",
        "\n",
        "print((\n",
        "    'average train accuracy: {}\\n' +\n",
        "    '    min train accuracy: {}\\n' +\n",
        "    '    max train accuracy: {}\\n' +\n",
        "    'average valid accuracy: {}\\n' +\n",
        "    '    min valid accuracy: {}\\n' +\n",
        "    '    max valid accuracy: {}').format(\n",
        "    np.mean(train_acc_list),                          # 輸出平均訓練準確度\n",
        "    np.min(train_acc_list),                           # 輸出最低訓練準確度\n",
        "    np.max(train_acc_list),                           # 輸出最高訓練準確度\n",
        "    np.mean(valid_acc_list),                          # 輸出平均驗證準確度\n",
        "    np.min(valid_acc_list),                           # 輸出最低驗證準確度\n",
        "    np.max(valid_acc_list)                            # 輸出最高驗證準確度\n",
        "))\n"
      ],
      "execution_count": 54,
      "outputs": [
        {
          "output_type": "stream",
          "text": [
            "average train accuracy: 0.8611138251099169\n",
            "    min train accuracy: 0.8513323983169705\n",
            "    max train accuracy: 0.8707865168539326\n",
            "average valid accuracy: 0.8170987383089573\n",
            "    min valid accuracy: 0.7821229050279329\n",
            "    max valid accuracy: 0.8707865168539326\n"
          ],
          "name": "stdout"
        }
      ]
    },
    {
      "cell_type": "markdown",
      "metadata": {
        "id": "CBQfNQs19Ik-"
      },
      "source": [
        "GradientBoostingClassifier 模型演算法 :\n",
        "\n",
        "與下方 RandomForest 相同為 Ensemble Learing 的一種。\n",
        "方法為利用每一輪迭代得到的值與正確答案比較之後獲得殘差，利用這個殘差改善下一次的迭代，使得每次迭代都要讓樣本的損失儘量變得更小，\n",
        "\n",
        "模型超參數的選擇理由 :\n",
        "- random_state : 設定參數種子。"
      ]
    },
    {
      "cell_type": "code",
      "metadata": {
        "colab": {
          "base_uri": "https://localhost:8080/"
        },
        "id": "LFUDNBZhwROC",
        "outputId": "aa92a7a7-3ac5-4cf5-db02-943ed900b302"
      },
      "source": [
        "# 使用 ensemble 進行實驗 (RandomForest)\n",
        "# 最佳 Kaggle 結果 0.78947\n",
        "\n",
        "kf = KFold(n_splits=5,                                # 設定 K 值\n",
        "           random_state=1012,\n",
        "           shuffle=True)\n",
        "kf.get_n_splits(train_x)                              # 給予資料範圍\n",
        "\n",
        "train_acc_list = []                                   # 儲存每次訓練模型的準確度\n",
        "valid_acc_list = []                                   # 儲存每次驗證模型的準確度\n",
        "\n",
        "for train_index, valid_index in kf.split(train_x):    # 每個迴圈都會產生不同部份的資料\n",
        "    train_x_split = train_x.iloc[train_index]         # 產生訓練資料\n",
        "    train_y_split = train_y.iloc[train_index]         # 產生訓練資料標籤\n",
        "    valid_x_split = train_x.iloc[valid_index]         # 產生驗證資料\n",
        "    valid_y_split = train_y.iloc[valid_index]         # 產生驗證資料標籤\n",
        "\n",
        "    model = RandomForestClassifier(criterion='gini', n_estimators=1750, max_depth=7, min_samples_leaf=7, random_state=42) \n",
        "    model.fit(train_x_split, train_y_split)           # 訓練決策樹模型\n",
        "    \n",
        "    train_pred_y = model.predict(train_x_split)       # 確認模型是否訓練成功\n",
        "    train_acc = accuracy_score(train_y_split,         # 計算訓練資料準確度\n",
        "                               train_pred_y)\n",
        "    valid_pred_y = model.predict(valid_x_split)       # 驗證模型是否訓練成功\n",
        "    valid_acc = accuracy_score(valid_y_split,         # 計算驗證資料準確度\n",
        "                               valid_pred_y)\n",
        "    \n",
        "    train_acc_list.append(train_acc)\n",
        "    valid_acc_list.append(valid_acc)\n",
        "\n",
        "Survived = model.predict(test_x)\n",
        "submit = pd.DataFrame({'PassengerId' : df_test['PassengerId'],\n",
        "            'Survived' : Survived })\n",
        "submit.to_csv('./submit_RandomForest.csv', index=False)\n",
        "\n",
        "print((\n",
        "    'average train accuracy: {}\\n' +\n",
        "    '    min train accuracy: {}\\n' +\n",
        "    '    max train accuracy: {}\\n' +\n",
        "    'average valid accuracy: {}\\n' +\n",
        "    '    min valid accuracy: {}\\n' +\n",
        "    '    max valid accuracy: {}').format(\n",
        "    np.mean(train_acc_list),                          # 輸出平均訓練準確度\n",
        "    np.min(train_acc_list),                           # 輸出最低訓練準確度\n",
        "    np.max(train_acc_list),                           # 輸出最高訓練準確度\n",
        "    np.mean(valid_acc_list),                          # 輸出平均驗證準確度\n",
        "    np.min(valid_acc_list),                           # 輸出最低驗證準確度\n",
        "    np.max(valid_acc_list)                            # 輸出最高驗證準確度\n",
        "))\n"
      ],
      "execution_count": 55,
      "outputs": [
        {
          "output_type": "stream",
          "text": [
            "average train accuracy: 0.8454016105394203\n",
            "    min train accuracy: 0.8330995792426368\n",
            "    max train accuracy: 0.8567415730337079\n",
            "average valid accuracy: 0.8182035026049839\n",
            "    min valid accuracy: 0.7988826815642458\n",
            "    max valid accuracy: 0.8595505617977528\n"
          ],
          "name": "stdout"
        }
      ]
    },
    {
      "cell_type": "markdown",
      "metadata": {
        "id": "2eET5W6E4rHX"
      },
      "source": [
        "RandomForestClassifier 模型演算法 :\n",
        "\n",
        "屬於眾人投票型的 Ensemble learning，先決定要創造幾個決策樹來投票，並利用他們投票結果來預測最終結果。\n",
        "\n",
        "模型超參數的選擇理由 :\n",
        "- criterion : 選擇使用 gini，適用於數據維度大，以及有噪音的數據，且 若選擇 entropy 容易有 overfitting 的情形。\n",
        "- max_depth : 限制樹的最大深度，超過設定深度的樹枝全部剪掉。並非數值大或小就絕對好或壞，需做嘗試。\n",
        "- random_state : 設定參數種子。\n",
        "- n_estimators : 建立子樹數量，通常為越多越好(在性能許可的狀態下)\n",
        "- min_samples_leaf : 葉子節點最少樣本數，數據量越大則最好也增大這個值。\n"
      ]
    },
    {
      "cell_type": "code",
      "metadata": {
        "colab": {
          "base_uri": "https://localhost:8080/"
        },
        "id": "O0HMOFLNHDpf",
        "outputId": "376e9397-abfc-4bad-d1b7-ff2d95c1ebea"
      },
      "source": [
        "# underfitting\n",
        "\n",
        "df_underfitting = pd.read_csv('train.csv')  \n",
        "underfitting_x = df_underfitting[['Age']]               # 取出訓練資料需要分析的資料欄位\n",
        "underfitting_y = df_underfitting['Survived']               # 取出訓練資料的答案\n",
        "\n",
        "underfitting_x['Age'].fillna(28, inplace=True)\n",
        "\n",
        "\n",
        "kf = KFold(n_splits=5,                                # 設定 K 值\n",
        "           random_state=1012,\n",
        "           shuffle=True)\n",
        "kf.get_n_splits(underfitting_x) \n",
        "\n",
        "train_acc_list = []                                   # 儲存每次訓練模型的準確度\n",
        "valid_acc_list = []\n",
        "\n",
        "for train_index, valid_index in kf.split(underfitting_x):    # 每個迴圈都會產生不同部份的資料\n",
        "    train_x_split = underfitting_x.iloc[train_index]         # 產生訓練資料\n",
        "    train_y_split = underfitting_y.iloc[train_index]         # 產生訓練資料標籤\n",
        "    valid_x_split = underfitting_x.iloc[valid_index]         # 產生驗證資料\n",
        "    valid_y_split = underfitting_y.iloc[valid_index]         # 產生驗證資料標籤\n",
        "\n",
        "    model = SVC(random_state = 100, max_iter=15)  \n",
        "    model.fit(train_x_split, train_y_split)           # 訓練決策樹模型\n",
        "    \n",
        "    train_pred_y = model.predict(train_x_split)       # 確認模型是否訓練成功\n",
        "    train_acc = accuracy_score(train_y_split,         # 計算訓練資料準確度\n",
        "                               train_pred_y)\n",
        "    valid_pred_y = model.predict(valid_x_split)       # 驗證模型是否訓練成功\n",
        "    valid_acc = accuracy_score(valid_y_split,         # 計算驗證資料準確度\n",
        "                               valid_pred_y)\n",
        "    \n",
        "    train_acc_list.append(train_acc)\n",
        "    valid_acc_list.append(valid_acc)\n",
        "\n",
        "print((\n",
        "    'average train accuracy: {}\\n' +\n",
        "    '    min train accuracy: {}\\n' +\n",
        "    '    max train accuracy: {}\\n' +\n",
        "    'average valid accuracy: {}\\n' +\n",
        "    '    min valid accuracy: {}\\n' +\n",
        "    '    max valid accuracy: {}').format(\n",
        "    np.mean(train_acc_list),                          # 輸出平均訓練準確度\n",
        "    np.min(train_acc_list),                           # 輸出最低訓練準確度\n",
        "    np.max(train_acc_list),                           # 輸出最高訓練準確度\n",
        "    np.mean(valid_acc_list),                          # 輸出平均驗證準確度\n",
        "    np.min(valid_acc_list),                           # 輸出最低驗證準確度\n",
        "    np.max(valid_acc_list)                            # 輸出最高驗證準確度\n",
        "))"
      ],
      "execution_count": 56,
      "outputs": [
        {
          "output_type": "stream",
          "text": [
            "average train accuracy: 0.521308523882314\n",
            "    min train accuracy: 0.44600280504908835\n",
            "    max train accuracy: 0.6044880785413744\n",
            "average valid accuracy: 0.5163078275061201\n",
            "    min valid accuracy: 0.449438202247191\n",
            "    max valid accuracy: 0.5786516853932584\n"
          ],
          "name": "stdout"
        }
      ]
    },
    {
      "cell_type": "code",
      "metadata": {
        "colab": {
          "base_uri": "https://localhost:8080/"
        },
        "id": "qMiLWbOiMwk4",
        "outputId": "528a9a18-30eb-4246-e27f-9b31871cfcd7"
      },
      "source": [
        "# overfitting\n",
        "\n",
        "from sklearn.preprocessing import StandardScaler\n",
        "df_overfitting = pd.read_csv('train.csv')  \n",
        "overfitting_x = df_overfitting[['Pclass','Age', 'Sex', 'Fare']]                  # 取出訓練資料需要分析的資料欄位\n",
        "overfitting_y = df_overfitting['Survived'] # 取出訓練資料的答案\n",
        "\n",
        "overfitting_x['Age'].fillna(28, inplace=True)\n",
        "\n",
        "values = overfitting_x['Age']\n",
        "q1, q3 = np.quantile(values, [0.25, 0.75])          # 計算第一與第三四分位數\n",
        "low = q1 - 1.5 * (q3 - q1)                          # 計算下界\n",
        "high = q3 + 1.5 * (q3 - q1)                         # 計算上界\n",
        "overfitting_x = overfitting_x[(values >= low) & (values <= high)] # 濾除離群值\n",
        "\n",
        "le = LabelEncoder()                            # 創造 Label Encoder\n",
        "le.fit(overfitting_x['Sex'])                         # 給予每個類別一個數值\n",
        "overfitting_x['Sex'] = le.transform(overfitting_x['Sex'])  # 轉換所有類別成為數值\n",
        "\n",
        "kf = KFold(n_splits=5,                                # 設定 K 值\n",
        "           random_state=1012,\n",
        "           shuffle=True)\n",
        "kf.get_n_splits(overfitting_x) \n",
        "\n",
        "train_acc_list = []                                   # 儲存每次訓練模型的準確度\n",
        "valid_acc_list = []\n",
        "\n",
        "for train_index, valid_index in kf.split(overfitting_x):    # 每個迴圈都會產生不同部份的資料\n",
        "    train_x_split = overfitting_x.iloc[train_index]         # 產生訓練資料\n",
        "    train_y_split = overfitting_y.iloc[train_index]         # 產生訓練資料標籤\n",
        "    valid_x_split = overfitting_x.iloc[valid_index]         # 產生驗證資料\n",
        "    valid_y_split = overfitting_y.iloc[valid_index]         # 產生驗證資料標籤\n",
        "    \n",
        "    model = DecisionTreeClassifier(random_state=1012) # 創造決策樹模型\n",
        "\n",
        "    model.fit(train_x_split, train_y_split)           # 訓練決策樹模型\n",
        "    \n",
        "    train_pred_y = model.predict(train_x_split)       # 確認模型是否訓練成功\n",
        "    train_acc = accuracy_score(train_y_split,         # 計算訓練資料準確度\n",
        "                               train_pred_y)\n",
        "    valid_pred_y = model.predict(valid_x_split)       # 驗證模型是否訓練成功\n",
        "    valid_acc = accuracy_score(valid_y_split,         # 計算驗證資料準確度\n",
        "                               valid_pred_y)\n",
        "    \n",
        "    train_acc_list.append(train_acc)\n",
        "    valid_acc_list.append(valid_acc)\n",
        "\n",
        "print((\n",
        "    'average train accuracy: {}\\n' +\n",
        "    '    min train accuracy: {}\\n' +\n",
        "    '    max train accuracy: {}\\n' +\n",
        "    'average valid accuracy: {}\\n' +\n",
        "    '    min valid accuracy: {}\\n' +\n",
        "    '    max valid accuracy: {}').format(\n",
        "    np.mean(train_acc_list),                          # 輸出平均訓練準確度\n",
        "    np.min(train_acc_list),                           # 輸出最低訓練準確度\n",
        "    np.max(train_acc_list),                           # 輸出最高訓練準確度\n",
        "    np.mean(valid_acc_list),                          # 輸出平均驗證準確度\n",
        "    np.min(valid_acc_list),                           # 輸出最低驗證準確度\n",
        "    np.max(valid_acc_list)                            # 輸出最高驗證準確度\n",
        "))"
      ],
      "execution_count": 57,
      "outputs": [
        {
          "output_type": "stream",
          "text": [
            "average train accuracy: 0.9439393939393937\n",
            "    min train accuracy: 0.9409090909090909\n",
            "    max train accuracy: 0.95\n",
            "average valid accuracy: 0.5333333333333334\n",
            "    min valid accuracy: 0.509090909090909\n",
            "    max valid accuracy: 0.5515151515151515\n"
          ],
          "name": "stdout"
        }
      ]
    },
    {
      "cell_type": "markdown",
      "metadata": {
        "id": "GVKxDh-3XNxo"
      },
      "source": [
        "## 加分題\n",
        "\n",
        "請將訓練後的模型套用至 [Kaggle Titanic](https://www.kaggle.com/c/titanic/overview) `test.csv` 上，並上傳至 Kaggle 進行評分，**截圖**後**嵌入**至 `markdown` 區塊中。"
      ]
    },
    {
      "cell_type": "markdown",
      "metadata": {
        "id": "Eb6aCSMWgNfk"
      },
      "source": [
        "Kaggle Public Leaderboard : 約 9.9 % < 10 % (2021/4/26)\n",
        "\n",
        "![kaggle.PNG](data:image/png;base64,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)"
      ]
    },
    {
      "cell_type": "code",
      "metadata": {
        "id": "O7xTeSO7XNxo",
        "colab": {
          "base_uri": "https://localhost:8080/"
        },
        "outputId": "3c6e321e-d3c7-4c5a-8422-6b63fcec48d1"
      },
      "source": [
        "# 請勿更動此區塊程式碼\n",
        "\n",
        "EXECUTION_END_TIME = time.time() # 計算執行時間\n",
        "print('total execution time: {}'.format(EXECUTION_END_TIME - EXECUTION_START_TIME))"
      ],
      "execution_count": 58,
      "outputs": [
        {
          "output_type": "stream",
          "text": [
            "total execution time: 22.376667022705078\n"
          ],
          "name": "stdout"
        }
      ]
    }
  ]
}